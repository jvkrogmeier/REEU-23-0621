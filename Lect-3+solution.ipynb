{
 "cells": [
  {
   "cell_type": "markdown",
   "metadata": {},
   "source": [
    "# Lecture 3\n",
    "\n",
    "(Summer 2023)\n",
    "\n",
    "## Outline of topics for this segment:\n",
    "\n",
    "1. Anatomy of a Plot (Sneha Jha)\n",
    "2. Array indexing\n",
    "3. SciPy and numerical linear algebra\n",
    "4. Least squares\n",
    "5. Random numbers\n",
    "6. The Chutes and Ladders Game\n"
   ]
  },
  {
   "cell_type": "code",
   "execution_count": 1,
   "metadata": {},
   "outputs": [],
   "source": [
    "import math\n",
    "import numpy as np\n",
    "import matplotlib as mpl\n",
    "import matplotlib.pyplot as plt\n",
    "import scipy.linalg as la"
   ]
  },
  {
   "cell_type": "markdown",
   "metadata": {},
   "source": [
    "## Anatomy of a Plot (Sneha Jha)"
   ]
  },
  {
   "cell_type": "code",
   "execution_count": null,
   "metadata": {},
   "outputs": [],
   "source": []
  },
  {
   "cell_type": "markdown",
   "metadata": {},
   "source": [
    "## Arrays and indexing\n",
    "We are going to need to use some of python's array indexing and slicing capabilities below. Therefore, we introduce them here."
   ]
  },
  {
   "cell_type": "code",
   "execution_count": 2,
   "metadata": {},
   "outputs": [
    {
     "name": "stdout",
     "output_type": "stream",
     "text": [
      "[4 4 7 5 5 6 2 9 1 7 3 7 4 4 2 6 2 0 8 2]\n",
      "4\n",
      "6\n"
     ]
    }
   ],
   "source": [
    "# Make an example one-dimensional array and fill it with random \n",
    "# integers. As used below the integers are between 0 and 9. The\n",
    "# array size is 20. The first entry in the array is x[0] and the last\n",
    "# is x[19]\n",
    "\n",
    "x1 = np.random.randint(10, size=20)\n",
    "print(x1)\n",
    "print(x1[0])\n",
    "print(x1[5])"
   ]
  },
  {
   "cell_type": "code",
   "execution_count": 3,
   "metadata": {},
   "outputs": [
    {
     "name": "stdout",
     "output_type": "stream",
     "text": [
      "(20,)\n",
      "20\n"
     ]
    }
   ],
   "source": [
    "# The \"shape\" method shows that x1 is a one-dimensional array of\n",
    "# length 20\n",
    "print(x1.shape)\n",
    "print(len(x1))"
   ]
  },
  {
   "cell_type": "markdown",
   "metadata": {},
   "source": [
    "## Array slicing\n",
    "This capability allows a simple way to access subarrays contained inside of an array. The notation uses the `:` operator. To access a slice of a **one-dimensional** array:\n",
    "\n",
    "- x1[start:stop:step]\n",
    "\n",
    "where\n",
    "\n",
    "- start is the beginning index (default if unspecified: start = 0)\n",
    "- stop is the ending index plus 1 (default if unspecified: stop = len(x1))\n",
    "- step is the spacing (default if unspecified: step = 1)"
   ]
  },
  {
   "cell_type": "code",
   "execution_count": 4,
   "metadata": {},
   "outputs": [
    {
     "data": {
      "text/plain": [
       "array([4, 4, 7, 5, 5, 6, 2, 9, 1, 7, 3, 7, 4, 4, 2, 6, 2, 0, 8, 2])"
      ]
     },
     "execution_count": 4,
     "metadata": {},
     "output_type": "execute_result"
    }
   ],
   "source": [
    "x1"
   ]
  },
  {
   "cell_type": "code",
   "execution_count": 5,
   "metadata": {},
   "outputs": [
    {
     "data": {
      "text/plain": [
       "array([4, 7, 5, 5, 6, 2, 9, 1, 7, 3])"
      ]
     },
     "execution_count": 5,
     "metadata": {},
     "output_type": "execute_result"
    }
   ],
   "source": [
    "x1[1:11]"
   ]
  },
  {
   "cell_type": "code",
   "execution_count": 6,
   "metadata": {},
   "outputs": [
    {
     "data": {
      "text/plain": [
       "array([4, 5, 6, 9, 7])"
      ]
     },
     "execution_count": 6,
     "metadata": {},
     "output_type": "execute_result"
    }
   ],
   "source": [
    "# Every other entry starting from second entry and ending by the\n",
    "# 11th\n",
    "x1[1:11:2]"
   ]
  },
  {
   "cell_type": "code",
   "execution_count": 7,
   "metadata": {},
   "outputs": [
    {
     "data": {
      "text/plain": [
       "array([4, 5, 9, 3])"
      ]
     },
     "execution_count": 7,
     "metadata": {},
     "output_type": "execute_result"
    }
   ],
   "source": [
    "# Ditto but every third\n",
    "x1[1:11:3]"
   ]
  },
  {
   "cell_type": "code",
   "execution_count": 8,
   "metadata": {},
   "outputs": [
    {
     "data": {
      "text/plain": [
       "array([4, 4, 7, 5, 5, 6, 2, 9, 1, 7, 3])"
      ]
     },
     "execution_count": 8,
     "metadata": {},
     "output_type": "execute_result"
    }
   ],
   "source": [
    "# Starting from first entry\n",
    "x1[:11]"
   ]
  },
  {
   "cell_type": "code",
   "execution_count": 9,
   "metadata": {},
   "outputs": [
    {
     "data": {
      "text/plain": [
       "array([4, 4, 7, 5, 5, 6, 2, 9, 1, 7, 3, 7, 4, 4, 2, 6, 2, 0, 8, 2])"
      ]
     },
     "execution_count": 9,
     "metadata": {},
     "output_type": "execute_result"
    }
   ],
   "source": [
    "# Another way to get the entire array. Useful with multidimensional\n",
    "# arrays\n",
    "x1[:]"
   ]
  },
  {
   "cell_type": "code",
   "execution_count": 10,
   "metadata": {},
   "outputs": [
    {
     "data": {
      "text/plain": [
       "array([4, 7, 5, 2, 1, 3, 4, 2, 2, 8])"
      ]
     },
     "execution_count": 10,
     "metadata": {},
     "output_type": "execute_result"
    }
   ],
   "source": [
    "# Every other entry starting from first (i.e., even indices)\n",
    "x1[::2]"
   ]
  },
  {
   "cell_type": "code",
   "execution_count": 11,
   "metadata": {},
   "outputs": [
    {
     "data": {
      "text/plain": [
       "array([4, 5, 6, 9, 7, 7, 4, 6, 0, 2])"
      ]
     },
     "execution_count": 11,
     "metadata": {},
     "output_type": "execute_result"
    }
   ],
   "source": [
    "# Every other entry starting from second (i.e., odd indices)\n",
    "x1[1::2]"
   ]
  },
  {
   "cell_type": "markdown",
   "metadata": {},
   "source": [
    "## Two-dimensional arrays"
   ]
  },
  {
   "cell_type": "code",
   "execution_count": 12,
   "metadata": {},
   "outputs": [
    {
     "name": "stdout",
     "output_type": "stream",
     "text": [
      "[[4 3 8 4 2 9 6 9 4 5]\n",
      " [2 2 1 4 3 5 6 6 7 0]\n",
      " [8 1 6 7 6 1 1 0 1 6]\n",
      " [7 0 4 7 7 9 5 0 1 3]\n",
      " [2 2 4 9 0 4 8 3 1 0]\n",
      " [0 8 5 0 4 1 3 3 5 1]\n",
      " [6 4 5 3 8 9 4 8 8 0]\n",
      " [0 5 2 6 3 6 3 7 4 7]\n",
      " [4 4 6 2 2 0 4 8 8 1]\n",
      " [5 7 5 8 4 0 9 7 9 4]]\n"
     ]
    }
   ],
   "source": [
    "# Now generalize to matrix (a.k.a., a two-dimensional array).\n",
    "x2 = np.random.randint(10, size=(10,10))\n",
    "print(x2)"
   ]
  },
  {
   "cell_type": "code",
   "execution_count": 13,
   "metadata": {},
   "outputs": [
    {
     "data": {
      "text/plain": [
       "6"
      ]
     },
     "execution_count": 13,
     "metadata": {},
     "output_type": "execute_result"
    }
   ],
   "source": [
    "# How to address an individual entry in x2 ...\n",
    "x2[2,4]"
   ]
  },
  {
   "cell_type": "code",
   "execution_count": 14,
   "metadata": {},
   "outputs": [
    {
     "data": {
      "text/plain": [
       "array([8, 1, 6, 7, 6, 1, 1, 0, 1, 6])"
      ]
     },
     "execution_count": 14,
     "metadata": {},
     "output_type": "execute_result"
    }
   ],
   "source": [
    "# How to address the individual rows of x2 ...\n",
    "x2[2,:]"
   ]
  },
  {
   "cell_type": "code",
   "execution_count": 15,
   "metadata": {},
   "outputs": [
    {
     "data": {
      "text/plain": [
       "array([3, 2, 1, 0, 2, 8, 4, 5, 4, 7])"
      ]
     },
     "execution_count": 15,
     "metadata": {},
     "output_type": "execute_result"
    }
   ],
   "source": [
    "# How to address the individual columns of x2\n",
    "x2[:,1]"
   ]
  },
  {
   "cell_type": "markdown",
   "metadata": {},
   "source": [
    "### Notice how numpy treats the row and column arrays as 1D arrays. In otherwords, it does not keep track of the difference between a row and a column of a matrix ..."
   ]
  },
  {
   "cell_type": "code",
   "execution_count": 16,
   "metadata": {},
   "outputs": [
    {
     "data": {
      "text/plain": [
       "array([[1, 4],\n",
       "       [6, 7]])"
      ]
     },
     "execution_count": 16,
     "metadata": {},
     "output_type": "execute_result"
    }
   ],
   "source": [
    "# How to extract a sub-array\n",
    "x2[1:3,2:4]"
   ]
  },
  {
   "cell_type": "code",
   "execution_count": 17,
   "metadata": {},
   "outputs": [
    {
     "data": {
      "text/plain": [
       "array([[4, 3, 8, 4, 2, 9, 6, 9, 4, 5],\n",
       "       [2, 2, 1, 4, 3, 5, 6, 6, 7, 0],\n",
       "       [8, 1, 6, 7, 6, 1, 1, 0, 1, 6],\n",
       "       [7, 0, 4, 7, 7, 9, 5, 0, 1, 3],\n",
       "       [2, 2, 4, 9, 0, 4, 8, 3, 1, 0],\n",
       "       [0, 8, 5, 0, 4, 1, 3, 3, 5, 1],\n",
       "       [6, 4, 5, 3, 8, 9, 4, 8, 8, 0],\n",
       "       [0, 5, 2, 6, 3, 6, 3, 7, 4, 7],\n",
       "       [4, 4, 6, 2, 2, 0, 4, 8, 8, 1],\n",
       "       [5, 7, 5, 8, 4, 0, 9, 7, 9, 4]])"
      ]
     },
     "execution_count": 17,
     "metadata": {},
     "output_type": "execute_result"
    }
   ],
   "source": [
    "# Just to see the original\n",
    "x2"
   ]
  },
  {
   "cell_type": "code",
   "execution_count": 18,
   "metadata": {},
   "outputs": [
    {
     "data": {
      "text/plain": [
       "array([[4, 8, 2, 6, 4],\n",
       "       [8, 6, 6, 1, 1],\n",
       "       [2, 4, 0, 8, 1],\n",
       "       [6, 5, 8, 4, 8],\n",
       "       [4, 6, 2, 4, 8]])"
      ]
     },
     "execution_count": 18,
     "metadata": {},
     "output_type": "execute_result"
    }
   ],
   "source": [
    "# Subarray with every other row and column (even) \n",
    "x2[::2,::2]"
   ]
  },
  {
   "cell_type": "code",
   "execution_count": 19,
   "metadata": {},
   "outputs": [
    {
     "data": {
      "text/plain": [
       "array([[2, 4, 5, 6, 0],\n",
       "       [0, 7, 9, 0, 3],\n",
       "       [8, 0, 1, 3, 1],\n",
       "       [5, 6, 6, 7, 7],\n",
       "       [7, 8, 0, 7, 4]])"
      ]
     },
     "execution_count": 19,
     "metadata": {},
     "output_type": "execute_result"
    }
   ],
   "source": [
    "# Subarray with every other row and column (odd)\n",
    "x2[1::2,1::2]"
   ]
  },
  {
   "cell_type": "code",
   "execution_count": null,
   "metadata": {},
   "outputs": [],
   "source": []
  },
  {
   "cell_type": "markdown",
   "metadata": {},
   "source": [
    "## Numerical Linear Algebra\n",
    "\n",
    "Python is often used for operations associated with systems of linear equations. `Numpy` is a package that is useful for representing the arrays that hold: 1) the coefficient matrix defining the equations, 2) the column vector defining the unknown variables, and 3) the column vector holding the right-hand side of the matrix equation.\n",
    "\n",
    "There is also a package called `SciPy` which is useful for solving the equations."
   ]
  },
  {
   "cell_type": "markdown",
   "metadata": {},
   "source": [
    "### 1D and 2D Arrays"
   ]
  },
  {
   "cell_type": "code",
   "execution_count": 20,
   "metadata": {},
   "outputs": [
    {
     "name": "stdout",
     "output_type": "stream",
     "text": [
      "[ 1  3 -2  1]\n",
      "The number of dimensions is: 1\n",
      "The shape of the array is: (4,)\n",
      "The size of the array is: 4\n"
     ]
    }
   ],
   "source": [
    "a = np.array([1, 3, -2, 1])\n",
    "print(a)\n",
    "print(f'The number of dimensions is: {a.ndim}')\n",
    "print(f'The shape of the array is: {a.shape}')\n",
    "print(f'The size of the array is: {a.size}')"
   ]
  },
  {
   "cell_type": "code",
   "execution_count": 21,
   "metadata": {},
   "outputs": [
    {
     "name": "stdout",
     "output_type": "stream",
     "text": [
      "[[ 1  2]\n",
      " [ 3  7]\n",
      " [-1  5]]\n",
      "The number of dimensions is: 2\n",
      "The shape of the array is: (3, 2)\n",
      "The size of the array is: 6\n"
     ]
    }
   ],
   "source": [
    "M = np.array([[1, 2], [3, 7], [-1, 5]])\n",
    "print(M)\n",
    "print(f'The number of dimensions is: {M.ndim}')\n",
    "print(f'The shape of the array is: {M.shape}')\n",
    "print(f'The size of the array is: {M.size}')"
   ]
  },
  {
   "cell_type": "code",
   "execution_count": 22,
   "metadata": {},
   "outputs": [
    {
     "name": "stdout",
     "output_type": "stream",
     "text": [
      "[2 7 5]\n",
      "The number of dimensions is: 1\n",
      "The shape of the column is: (3,)\n",
      "The size of the column is: 3\n",
      "\n",
      "[3 7]\n",
      "The number of dimensions is: 1\n",
      "The shape of the row is: (2,)\n",
      "The size of the row is: 2\n"
     ]
    }
   ],
   "source": [
    "# Selecting rows and/or columns from a 2D array produces 1D arrays\n",
    "col = M[:,1]\n",
    "print(col)\n",
    "print(f'The number of dimensions is: {col.ndim}')\n",
    "print(f'The shape of the column is: {col.shape}')\n",
    "print(f'The size of the column is: {col.size}')\n",
    "print()\n",
    "row = M[1,:]\n",
    "print(row)\n",
    "print(f'The number of dimensions is: {row.ndim}')\n",
    "print(f'The shape of the row is: {row.shape}')\n",
    "print(f'The size of the row is: {row.size}')"
   ]
  },
  {
   "cell_type": "markdown",
   "metadata": {},
   "source": [
    "### In both cases we ended up with a 1D array when sampling the 2D array. If we really want the column vector to be a 2D array, then this can be accomplished using the `reshape` method ..."
   ]
  },
  {
   "cell_type": "code",
   "execution_count": 23,
   "metadata": {},
   "outputs": [
    {
     "name": "stdout",
     "output_type": "stream",
     "text": [
      "[[2]\n",
      " [7]\n",
      " [5]]\n",
      "The number of dimensions is: 2\n",
      "The shape of the column is: (3, 1)\n",
      "The size of the column is: 3\n"
     ]
    }
   ],
   "source": [
    "newcol = col.reshape(3,1)\n",
    "print(newcol)\n",
    "print(f'The number of dimensions is: {newcol.ndim}')\n",
    "print(f'The shape of the column is: {newcol.shape}')\n",
    "print(f'The size of the column is: {newcol.size}')"
   ]
  },
  {
   "cell_type": "markdown",
   "metadata": {},
   "source": [
    "## Matrix Operations (Elementwise)\n",
    "\n",
    "The matrix operations `+`, `-`, `/`, `*`, and `**` are performed elementwise on numpy arrays."
   ]
  },
  {
   "cell_type": "code",
   "execution_count": 24,
   "metadata": {},
   "outputs": [
    {
     "name": "stdout",
     "output_type": "stream",
     "text": [
      "[[ 1  2]\n",
      " [ 3  7]\n",
      " [-1  5]]\n"
     ]
    }
   ],
   "source": [
    "print(M)"
   ]
  },
  {
   "cell_type": "code",
   "execution_count": 25,
   "metadata": {},
   "outputs": [
    {
     "name": "stdout",
     "output_type": "stream",
     "text": [
      "[[ 2  4]\n",
      " [ 6 14]\n",
      " [-2 10]]\n"
     ]
    }
   ],
   "source": [
    "print(M + M)"
   ]
  },
  {
   "cell_type": "code",
   "execution_count": 26,
   "metadata": {},
   "outputs": [
    {
     "name": "stdout",
     "output_type": "stream",
     "text": [
      "[[ 1  4]\n",
      " [ 9 49]\n",
      " [ 1 25]]\n"
     ]
    }
   ],
   "source": [
    "print(M * M)"
   ]
  },
  {
   "cell_type": "markdown",
   "metadata": {},
   "source": [
    "### Standard matrix multiplication is performed with the `@` operator. The matrix dimensions must work out in order for this to be well-defined ..."
   ]
  },
  {
   "cell_type": "code",
   "execution_count": 27,
   "metadata": {},
   "outputs": [
    {
     "name": "stdout",
     "output_type": "stream",
     "text": [
      "The A matrix is: \n",
      "[[1 3]\n",
      " [2 4]\n",
      " [5 6]]\n",
      "The shape of the A matrix is: (3, 2)\n",
      "\n",
      "The B matrix is: \n",
      "[[3 2]\n",
      " [1 0]]\n",
      "The shape of the B matrix is: (2, 2)\n"
     ]
    }
   ],
   "source": [
    "A = np.array([[1,3], [2,4], [5, 6]])\n",
    "\n",
    "print(f'The A matrix is: ')\n",
    "print(A)\n",
    "print(f'The shape of the A matrix is: {A.shape}')\n",
    "print()\n",
    "\n",
    "B = np.array([[3, 2], [1, 0]])\n",
    "\n",
    "print(f'The B matrix is: ')\n",
    "print(B)\n",
    "print(f'The shape of the B matrix is: {B.shape}')\n"
   ]
  },
  {
   "cell_type": "code",
   "execution_count": 28,
   "metadata": {},
   "outputs": [
    {
     "name": "stdout",
     "output_type": "stream",
     "text": [
      "[[ 6  2]\n",
      " [10  4]\n",
      " [21 10]]\n"
     ]
    }
   ],
   "source": [
    "# A and B are shaped such that A @ B is defined ...\n",
    "\n",
    "print(A @ B)"
   ]
  },
  {
   "cell_type": "markdown",
   "metadata": {},
   "source": [
    "## Examples of Numpy Operations on Matrices ..."
   ]
  },
  {
   "cell_type": "markdown",
   "metadata": {},
   "source": [
    "### Inner product or dot product\n",
    "\n",
    "Inner product takes two vectors of equal length and returns a single number computed\n",
    "as the sum of the element-wise components of the two vectors. For example ...\n",
    "\n",
    "$$x = [x_1, x_2, x_3, x_4]$$ and $$y = [y_1, y_2, y_3, y_4]$$\n",
    "\n",
    "Then the inner product of the two vectors is defined as\n",
    "\n",
    "$$\\langle x, y \\rangle = \\sum_{k=1}^4 x_k y_k$$"
   ]
  },
  {
   "cell_type": "code",
   "execution_count": 29,
   "metadata": {},
   "outputs": [],
   "source": [
    "# What is the difference between the vectors defined below ... ?\n",
    "\n",
    "x = np.array([1, 3, -2, 1])\n",
    "y = np.array([1, 4, 2, 1])\n",
    "yy = np.array([[1], [4], [2], [1]])\n",
    "xx = np.array([[1, 3, -2, 1]])\n"
   ]
  },
  {
   "cell_type": "code",
   "execution_count": 30,
   "metadata": {},
   "outputs": [
    {
     "data": {
      "text/plain": [
       "10"
      ]
     },
     "execution_count": 30,
     "metadata": {},
     "output_type": "execute_result"
    }
   ],
   "source": [
    "np.dot(x,y)"
   ]
  },
  {
   "cell_type": "code",
   "execution_count": 31,
   "metadata": {},
   "outputs": [
    {
     "data": {
      "text/plain": [
       "10"
      ]
     },
     "execution_count": 31,
     "metadata": {},
     "output_type": "execute_result"
    }
   ],
   "source": [
    "np.inner(x,y)"
   ]
  },
  {
   "cell_type": "code",
   "execution_count": 32,
   "metadata": {},
   "outputs": [
    {
     "data": {
      "text/plain": [
       "array([[10]])"
      ]
     },
     "execution_count": 32,
     "metadata": {},
     "output_type": "execute_result"
    }
   ],
   "source": [
    "# Inner product as a matrix multiplication\n",
    "\n",
    "xx @ yy"
   ]
  },
  {
   "cell_type": "code",
   "execution_count": 33,
   "metadata": {},
   "outputs": [
    {
     "data": {
      "text/plain": [
       "array([[ 1,  3, -2,  1],\n",
       "       [ 4, 12, -8,  4],\n",
       "       [ 2,  6, -4,  2],\n",
       "       [ 1,  3, -2,  1]])"
      ]
     },
     "execution_count": 33,
     "metadata": {},
     "output_type": "execute_result"
    }
   ],
   "source": [
    "# Outer product as matrix multiplication\n",
    "\n",
    "yy @ xx"
   ]
  },
  {
   "cell_type": "markdown",
   "metadata": {},
   "source": [
    "### Transpose\n",
    "\n",
    "The transpose operator should be defined for any matrix. For example ...\n",
    "\n",
    "$$X = \\left[ \\begin{array}{rrr} 1 & 0 & -1 \\\\ 2 & 2 & 4 \\end{array} \\right]$$\n",
    "\n",
    "Then the transpose of the matrix is defined to be\n",
    "\n",
    "$$X^T = \\left[ \\begin{array}{rr} 1 & 2 \\\\ 0 & 2 \\\\ -1 & 4 \\end{array} \\right]$$"
   ]
  },
  {
   "cell_type": "code",
   "execution_count": 34,
   "metadata": {},
   "outputs": [
    {
     "name": "stdout",
     "output_type": "stream",
     "text": [
      "[[ 1  2]\n",
      " [ 3  7]\n",
      " [-1  5]]\n",
      "\n",
      "[[ 1  3 -1]\n",
      " [ 2  7  5]]\n"
     ]
    }
   ],
   "source": [
    "M = np.array([[1, 2], [3, 7], [-1, 5]])\n",
    "print(M)\n",
    "print()\n",
    "print(M.T)"
   ]
  },
  {
   "cell_type": "code",
   "execution_count": 35,
   "metadata": {},
   "outputs": [
    {
     "name": "stdout",
     "output_type": "stream",
     "text": [
      "[[ 1  3 -1]\n",
      " [ 2  7  5]]\n",
      "\n",
      "[[ 1  3 -1]\n",
      " [ 2  7  5]]\n"
     ]
    }
   ],
   "source": [
    "# Two additional ways to get the transpose are ...\n",
    "\n",
    "print(np.transpose(M))\n",
    "print()\n",
    "print(M.transpose())"
   ]
  },
  {
   "cell_type": "code",
   "execution_count": 36,
   "metadata": {},
   "outputs": [
    {
     "name": "stdout",
     "output_type": "stream",
     "text": [
      "[1 2 3]\n",
      "\n",
      "[1 2 3]\n"
     ]
    }
   ],
   "source": [
    "# Note: When we transpose a one-dimesional numpy array, it doesn't really\n",
    "# change anything ...\n",
    "\n",
    "print(np.array([1, 2, 3]))\n",
    "print()\n",
    "print(np.array([1, 2, 3]).T)"
   ]
  },
  {
   "cell_type": "code",
   "execution_count": 37,
   "metadata": {},
   "outputs": [
    {
     "name": "stdout",
     "output_type": "stream",
     "text": [
      "[[1 2 3]]\n",
      "\n",
      "[[1]\n",
      " [2]\n",
      " [3]]\n"
     ]
    }
   ],
   "source": [
    "# Note the difference ...\n",
    "\n",
    "print(np.array([[1, 2, 3]]))\n",
    "print()\n",
    "print(np.array([[1, 2, 3]]).T)\n"
   ]
  },
  {
   "cell_type": "markdown",
   "metadata": {},
   "source": [
    "### Trace\n",
    "\n",
    "The trace is the sum of the diagonal elements of a square matrix ...\n",
    "\n",
    "$$Trace \\left[ \\begin{array}{ccc} m_{1,1} & m_{1,2} & m_{1,3} \\\\ m_{2,1} & m_{2,2} & m_{2,3} \\\\ m_{3,1} & m_{3,2} & m_{3,3} \\end{array} \\right] = m_{1,1} + m_{2,2} + m_{3,3}$$"
   ]
  },
  {
   "cell_type": "code",
   "execution_count": 38,
   "metadata": {},
   "outputs": [
    {
     "name": "stdout",
     "output_type": "stream",
     "text": [
      "[[ 1  2  5]\n",
      " [ 0  3  7]\n",
      " [-1  5 -2]]\n",
      "\n",
      "2\n"
     ]
    }
   ],
   "source": [
    "M = np.array([[1, 2, 5], [0, 3, 7], [-1, 5, -2]])\n",
    "print(M)\n",
    "print()\n",
    "print(M.trace())\n"
   ]
  },
  {
   "cell_type": "markdown",
   "metadata": {},
   "source": [
    "### Rank\n",
    "\n",
    "The column rank of a matrix is the dimension of the vector space spanned by its column \n",
    "vectors. The row rank of a matrix is the dimension of the vector space spanned by its row vectors.\n",
    "\n",
    "For a square matrix the row rank and column rank are equal and usually just called the rank\n",
    "of the matrix."
   ]
  },
  {
   "cell_type": "code",
   "execution_count": 39,
   "metadata": {},
   "outputs": [
    {
     "name": "stdout",
     "output_type": "stream",
     "text": [
      "[[ 1  2  5]\n",
      " [ 0  3  7]\n",
      " [-1  5 -2]]\n",
      "\n",
      "3\n"
     ]
    }
   ],
   "source": [
    "M = np.array([[1, 2, 5], [0, 3, 7], [-1, 5, -2]])\n",
    "print(M)\n",
    "print()\n",
    "print(np.linalg.matrix_rank(M))"
   ]
  },
  {
   "cell_type": "markdown",
   "metadata": {},
   "source": [
    "### Inverse Matrix"
   ]
  },
  {
   "cell_type": "code",
   "execution_count": 40,
   "metadata": {},
   "outputs": [
    {
     "name": "stdout",
     "output_type": "stream",
     "text": [
      "[[ 1  2  5]\n",
      " [ 0  3  7]\n",
      " [-1  5 -2]]\n",
      "\n",
      "[[ 1.025 -0.725  0.025]\n",
      " [ 0.175 -0.075  0.175]\n",
      " [-0.075  0.175 -0.075]]\n",
      "\n",
      "[[ 1.025 -0.725  0.025]\n",
      " [ 0.175 -0.075  0.175]\n",
      " [-0.075  0.175 -0.075]]\n"
     ]
    }
   ],
   "source": [
    "M = np.array([[1, 2, 5], [0, 3, 7], [-1, 5, -2]])\n",
    "print(M)\n",
    "print()\n",
    "print(np.linalg.inv(M))\n",
    "print()\n",
    "print(la.inv(M))"
   ]
  },
  {
   "cell_type": "code",
   "execution_count": 41,
   "metadata": {},
   "outputs": [
    {
     "name": "stdout",
     "output_type": "stream",
     "text": [
      "[[ 1.00000000e+00 -5.55111512e-17  1.38777878e-17]\n",
      " [ 4.16333634e-17  1.00000000e+00  4.16333634e-17]\n",
      " [ 1.94289029e-16  2.22044605e-16  1.00000000e+00]]\n"
     ]
    }
   ],
   "source": [
    "print(M @ np.linalg.inv(M))"
   ]
  },
  {
   "cell_type": "code",
   "execution_count": null,
   "metadata": {},
   "outputs": [],
   "source": []
  },
  {
   "cell_type": "markdown",
   "metadata": {},
   "source": [
    "## Solving a systems of linear equations ...\n",
    "\n",
    "`scipy.linalg.solve`"
   ]
  },
  {
   "cell_type": "code",
   "execution_count": 42,
   "metadata": {},
   "outputs": [
    {
     "name": "stdout",
     "output_type": "stream",
     "text": [
      "[[ 2 -1]\n",
      " [ 1  1]]\n",
      "[[-3]\n",
      " [ 4]]\n"
     ]
    }
   ],
   "source": [
    "# Work on the problem we wrote on the board before\n",
    "\n",
    "A = np.array([[2, -1], [1, 1]])\n",
    "b = np.array([[-3], [4]])\n",
    "print(A)\n",
    "print(b)"
   ]
  },
  {
   "cell_type": "code",
   "execution_count": 43,
   "metadata": {},
   "outputs": [
    {
     "name": "stdout",
     "output_type": "stream",
     "text": [
      "[[0.33333333]\n",
      " [3.66666667]]\n"
     ]
    }
   ],
   "source": [
    "x = la.solve(A,b)\n",
    "print(x)"
   ]
  },
  {
   "cell_type": "code",
   "execution_count": 44,
   "metadata": {},
   "outputs": [
    {
     "data": {
      "text/plain": [
       "array([[0.33333333],\n",
       "       [3.66666667]])"
      ]
     },
     "execution_count": 44,
     "metadata": {},
     "output_type": "execute_result"
    }
   ],
   "source": [
    "# Compare to the above\n",
    "\n",
    "np.linalg.inv(A) @ b"
   ]
  },
  {
   "cell_type": "markdown",
   "metadata": {},
   "source": [
    "## Use of least-squares to fit best lines to the wheat and corn yield trend data from before ..."
   ]
  },
  {
   "cell_type": "code",
   "execution_count": 45,
   "metadata": {},
   "outputs": [],
   "source": [
    "# The years for which we have average wheat yield data.\n",
    "wdates = np.array([2021, 2020, 2019, 2018, 2017, 2016, 2015, 2014, 2013, 2012, 2011, 2010, 2009, 2008, 2007, 2006, \n",
    "                   2005, 2004, 2003, 2002, 2001, 2000,1999, 1998, 1997, 1996, 1995, 1994, 1993, 1992, 1991, 1990, \n",
    "                   1989, 1988, 1987, 1986, 1985, 1984, 1983, 1982, 1981, 1980, 1979, 1978, 1977, 1976, 1975, 1974, \n",
    "                   1973, 1972, 1971, 1970, 1969, 1968, 1967,1966, 1965, 1964, 1963, 1962, 1961, 1960, 1959, 1958, \n",
    "                   1957, 1956, 1955, 1954, 1953, 1952, 1951, 1950, 1949, 1948, 1947, 1946, 1945,1944, 1943, 1942, \n",
    "                   1941, 1940, 1939, 1938, 1937, 1936, 1935, 1934, 1933, 1932, 1931, 1930, 1929, 1928, 1927, 1926, \n",
    "                   1925, 1924, 1923,1922, 1921, 1920, 1919, 1918, 1917, 1916, 1915, 1914, 1913, 1912,1911, 1910, \n",
    "                   1909, 1908, 1907, 1906, 1905, 1904, 1903, 1902, 1901,1900, 1899, 1898, 1897, 1896, 1895, 1894, \n",
    "                   1893, 1892, 1891, 1890,1889, 1888, 1887, 1886, 1885, 1884, 1883, 1882, 1881, 1880, 1879,1878, \n",
    "                   1877, 1876, 1875, 1874, 1873, 1872, 1871, 1870, 1869, 1868, 1867, 1866])\n",
    "\n",
    "\n",
    "# The average wheat yield data in the order to line up with the corresponding years.\n",
    "wyields = np.array([44.5, 49.7, 51.7, 47.6, 46.4, 52.7, 43.6, 43.7, 47.1, 46.2, 43.6, 46.1, 44.3, 44.8, 40.2, \n",
    "                    38.6, 42. , 43.2, 44.2, 35. , 40.2, 42. , 42.7, 43.2, 39.5, 36.3, 35.8, 37.6, 38.2, 39.3, \n",
    "                    34.3, 39.5, 32.7, 34.1, 37.7, 34.4, 37.5, 38.8, 39.4, 35.5, 34.5, 33.5, 34.2, 31.4, 30.7, \n",
    "                    30.3, 30.6, 27.3, 31.6, 32.7, 33.9, 31. , 30.6, 28.4, 25.8, 26.3, 26.5, 25.8, 25.2, 25. , \n",
    "                    23.9, 26.1, 21.6, 27.5, 21.8, 20.2, 19.8, 18.1, 17.3, 18.4, 16. , 16.5, 14.5, 17.9, 18.2, \n",
    "                    17.2, 17. , 17.7, 16.4, 19.5, 16.8, 15.3, 14.1, 13.3, 13.6, 12.8, 12.2, 12.1, 11.2, 13.1, \n",
    "                    16.3, 14.2, 13. , 15.4, 14.7, 14.7, 12.8, 16. , 13.3, 13.8, 12.7, 13.5, 12.9, 14.8, 13.2, \n",
    "                    11.9, 16.7, 16.1, 14.4, 15.1, 12.4, 13.7, 15.5, 14.3, 14.2, 16. , 15.2, 12.9, 13.7, 14.9, \n",
    "                    15. , 12.2, 12.5, 15.2, 14. , 12.8, 13.9, 13.5, 12.4, 14.2, 16.5, 12.2, 14. , 12.1, 13.3, \n",
    "                    14.1, 11.4, 14.8, 12.3, 15.1, 11. , 13.2, 13. , 13.5, 14.1, 10.9, 11.1, 13. , 12.9, 11.8, \n",
    "                    12.2, 12.1, 13.7, 12.9, 12.6, 11. ])\n",
    "\n",
    "# The years for which we have average corn yield data.\n",
    "cdates = np.array([2021, 2020, 2019, 2018, 2017, 2016, 2015, 2014, 2013, 2012, 2011, 2010, 2009, 2008, 2007, 2006, \n",
    "                   2005, 2004, 2003, 2002, 2001, 2000, 1999, 1998, 1997, 1996, 1995, 1994, 1993, 1992, 1991, 1990, \n",
    "                   1989, 1988, 1987, 1986, 1985, 1984, 1983, 1982, 1981, 1980, 1979, 1978, 1977, 1976, 1975, 1974, \n",
    "                   1973, 1972, 1971, 1970, 1969, 1968, 1967, 1966, 1965, 1964, 1963, 1962, 1961, 1960, 1959, 1958, \n",
    "                   1957, 1956, 1955, 1954, 1953, 1952, 1951, 1950, 1949, 1948, 1947, 1946, 1945, 1944, 1943, 1942, \n",
    "                   1941, 1940, 1939, 1938, 1937, 1936, 1935, 1934, 1933, 1932, 1931, 1930, 1929, 1928, 1927, 1926, \n",
    "                   1925, 1924, 1923, 1922, 1921, 1920, 1919, 1918, 1917, 1916, 1915, 1914, 1913, 1912, 1911, 1910, \n",
    "                   1909, 1908, 1907, 1906, 1905, 1904, 1903, 1902, 1901, 1900, 1899, 1898, 1897, 1896, 1895, 1894, \n",
    "                   1893, 1892, 1891, 1890, 1889, 1888, 1887, 1886, 1885, 1884, 1883, 1882, 1881, 1880, 1879, 1878, \n",
    "                   1877, 1876, 1875, 1874, 1873, 1872, 1871, 1870, 1869, 1868, 1867, 1866])\n",
    "\n",
    "# The average corn yield data in the order to line up with the corresponding years.\n",
    "cyields = np.array([176.3, 172, 167.5, 176.4, 176.6, 174.6, 168.4, 171, 158.1, 123.1, 146.8, 152.6, 164.4, \n",
    "                    153.3, 150.7, 149.1, 147.9, 160.3, 142.2, 129.3, 138.2, 136.9, 133.8, 134.4, 126.7, \n",
    "                    127.1, 113.5, 138.6, 100.7, 131.5, 108.6, 118.5, 116.3, 84.6, 119.8, 119.4, 118, 106.7, \n",
    "                    81.1, 113.2, 108.9, 91, 109.5, 101, 90.8, 88, 86.4, 71.9, 91.3, 97, 88.1, 72.4, 85.9, 79.5, 80.1,\n",
    "                    73.1, 74.1, 62.9, 67.9, 64.7, 62.4, 54.7, 53.1, 52.8, 48.3, 47.4, 42, 39.4, 40.7, 41.8, 36.9, \n",
    "                    38.2, 38.2, 43, 28.6, 37.2, 33.1, 33, 32.6, 35.4, 31.2, 28.9, 29.9, 27.8, 28.9, 18.6, 24.2, \n",
    "                    18.7, 22.8, 26.5, 24.5, 20.5, 25.7, 26.3, 26.4, 25.7, 27.4, 22.1, 27.8, 26.3, 27.8, 29.9, 26.8, \n",
    "                    23.9, 26.2, 24.1, 28.1, 25.8, 22.7, 29.1, 24.4, 27.9, 26.1, 26.9, 27.2, 31.7, 30.9, 28.2, 26.9, \n",
    "                    28.5, 18.2, 28.1, 28, 26.8, 25.4, 30, 28, 20.2, 23.8, 24.7, 29.6, 22.1, 29.5, 29.1, 21.9, 24.1, \n",
    "                    28.6, 28.3, 24.2, 26.5, 19.8, 27.3, 28.2, 26.2, 25.8, 26.7, 27.7, 22.2, 22.9, 29.4, 27.2, 29.3, \n",
    "                    21.8, 26.2, 24.7, 24.3])"
   ]
  },
  {
   "cell_type": "code",
   "execution_count": null,
   "metadata": {},
   "outputs": [],
   "source": []
  },
  {
   "cell_type": "code",
   "execution_count": 46,
   "metadata": {},
   "outputs": [
    {
     "data": {
      "image/png": "[encoded data removed]",
      "text/plain": [
       "<Figure size 432x288 with 1 Axes>"
      ]
     },
     "metadata": {
      "needs_background": "light"
     },
     "output_type": "display_data"
    }
   ],
   "source": [
    "# Plotting the wheat yield trend\n",
    "fig3 = plt.figure()\n",
    "plt.style.use('classic')\n",
    "plt.plot(wdates, wyields)\n",
    "plt.plot(cdates, cyields)\n",
    "plt.title(\"US Average Corn and Wheat Yield by Year\")\n",
    "plt.xlabel(\"Year\")\n",
    "plt.ylabel(\"Yield in bushels per acre\")\n",
    "plt.grid()"
   ]
  },
  {
   "cell_type": "markdown",
   "metadata": {},
   "source": [
    "## The yield improvement trends began around 1940.\n",
    "\n",
    "Since the first year in the data sets is 1866, the index corresponding to 1940 is 1940 - 1866 = 74. Now shorten up the datasets ..."
   ]
  },
  {
   "cell_type": "code",
   "execution_count": 47,
   "metadata": {},
   "outputs": [
    {
     "name": "stdout",
     "output_type": "stream",
     "text": [
      "cdates =\n",
      "[2021 2020 2019 2018 2017 2016 2015 2014 2013 2012 2011 2010 2009 2008\n",
      " 2007 2006 2005 2004 2003 2002 2001 2000 1999 1998 1997 1996 1995 1994\n",
      " 1993 1992 1991 1990 1989 1988 1987 1986 1985 1984 1983 1982 1981 1980\n",
      " 1979 1978 1977 1976 1975 1974 1973 1972 1971 1970 1969 1968 1967 1966\n",
      " 1965 1964 1963 1962 1961 1960 1959 1958 1957 1956 1955 1954 1953 1952\n",
      " 1951 1950 1949 1948 1947 1946 1945 1944 1943 1942 1941 1940 1939 1938\n",
      " 1937 1936 1935 1934 1933 1932 1931 1930 1929 1928 1927 1926 1925 1924\n",
      " 1923 1922 1921 1920 1919 1918 1917 1916 1915 1914 1913 1912 1911 1910\n",
      " 1909 1908 1907 1906 1905 1904 1903 1902 1901 1900 1899 1898 1897 1896\n",
      " 1895 1894 1893 1892 1891 1890 1889 1888 1887 1886 1885 1884 1883 1882\n",
      " 1881 1880 1879 1878 1877 1876 1875 1874 1873 1872 1871 1870 1869 1868\n",
      " 1867 1866]\n",
      "\n",
      "dates =\n",
      "[1866 1867 1868 1869 1870 1871 1872 1873 1874 1875 1876 1877 1878 1879\n",
      " 1880 1881 1882 1883 1884 1885 1886 1887 1888 1889 1890 1891 1892 1893\n",
      " 1894 1895 1896 1897 1898 1899 1900 1901 1902 1903 1904 1905 1906 1907\n",
      " 1908 1909 1910 1911 1912 1913 1914 1915 1916 1917 1918 1919 1920 1921\n",
      " 1922 1923 1924 1925 1926 1927 1928 1929 1930 1931 1932 1933 1934 1935\n",
      " 1936 1937 1938 1939 1940 1941 1942 1943 1944 1945 1946 1947 1948 1949\n",
      " 1950 1951 1952 1953 1954 1955 1956 1957 1958 1959 1960 1961 1962 1963\n",
      " 1964 1965 1966 1967 1968 1969 1970 1971 1972 1973 1974 1975 1976 1977\n",
      " 1978 1979 1980 1981 1982 1983 1984 1985 1986 1987 1988 1989 1990 1991\n",
      " 1992 1993 1994 1995 1996 1997 1998 1999 2000 2001 2002 2003 2004 2005\n",
      " 2006 2007 2008 2009 2010 2011 2012 2013 2014 2015 2016 2017 2018 2019\n",
      " 2020 2021]\n"
     ]
    }
   ],
   "source": [
    "# The dates and the corresponding yields are all reverse ordered. Let's get them running\n",
    "# in the normal time order ...\n",
    "\n",
    "dates = cdates[::-1] # This reverses the array. Note also that cdates and wdates are identical\n",
    "\n",
    "print('cdates =')\n",
    "print(cdates)\n",
    "print()\n",
    "print('dates =')\n",
    "print(dates)"
   ]
  },
  {
   "cell_type": "code",
   "execution_count": 48,
   "metadata": {},
   "outputs": [],
   "source": [
    "# Also reverse the wheat and corn yields\n",
    "\n",
    "wheat = wyields[::-1]\n",
    "corn = cyields[::-1]"
   ]
  },
  {
   "cell_type": "code",
   "execution_count": 49,
   "metadata": {},
   "outputs": [],
   "source": [
    "# Now trim to keep only the data where the increasing yield trends are evident\n",
    "rdates = dates[74::]\n",
    "rwheat = wheat[74::]\n",
    "rcorn = corn[74::]"
   ]
  },
  {
   "cell_type": "code",
   "execution_count": 50,
   "metadata": {},
   "outputs": [
    {
     "data": {
      "text/plain": [
       "array([1940, 1941, 1942, 1943, 1944, 1945, 1946, 1947, 1948, 1949, 1950,\n",
       "       1951, 1952, 1953, 1954, 1955, 1956, 1957, 1958, 1959, 1960, 1961,\n",
       "       1962, 1963, 1964, 1965, 1966, 1967, 1968, 1969, 1970, 1971, 1972,\n",
       "       1973, 1974, 1975, 1976, 1977, 1978, 1979, 1980, 1981, 1982, 1983,\n",
       "       1984, 1985, 1986, 1987, 1988, 1989, 1990, 1991, 1992, 1993, 1994,\n",
       "       1995, 1996, 1997, 1998, 1999, 2000, 2001, 2002, 2003, 2004, 2005,\n",
       "       2006, 2007, 2008, 2009, 2010, 2011, 2012, 2013, 2014, 2015, 2016,\n",
       "       2017, 2018, 2019, 2020, 2021])"
      ]
     },
     "execution_count": 50,
     "metadata": {},
     "output_type": "execute_result"
    }
   ],
   "source": [
    "rdates"
   ]
  },
  {
   "cell_type": "code",
   "execution_count": 51,
   "metadata": {},
   "outputs": [
    {
     "data": {
      "image/png": "[encoded data removed]",
      "text/plain": [
       "<Figure size 640x480 with 1 Axes>"
      ]
     },
     "metadata": {},
     "output_type": "display_data"
    }
   ],
   "source": [
    "# Plotting the wheat and corn yield trends\n",
    "fig3 = plt.figure()\n",
    "plt.style.use('classic')\n",
    "plt.plot(rdates, rwheat)\n",
    "plt.plot(rdates, rcorn)\n",
    "plt.title(\"United States Average Corn and Wheat Yield by Year\")\n",
    "plt.xlabel(\"Year\")\n",
    "plt.ylabel(\"Yield in bushels per acre\")\n",
    "plt.grid()"
   ]
  },
  {
   "cell_type": "code",
   "execution_count": null,
   "metadata": {},
   "outputs": [],
   "source": []
  },
  {
   "cell_type": "markdown",
   "metadata": {},
   "source": [
    "### Straight Line Fitting via Least Squares ...\n",
    "\n",
    "<img align=\"left\" src='Data/LS-notes-p1.png' width=\"700\"/>\n",
    "<img align=\"left\" src='Data/LS-notes-p2.png' width=\"700\"/>"
   ]
  },
  {
   "cell_type": "markdown",
   "metadata": {},
   "source": [
    "## Exercise: Using the clipped data in the previous cells use least squares to fit lines to the wheat and corn yield data.\n",
    "\n",
    "Interpret the slopes on the wheat and corn best fit lines\n",
    "\n",
    "Plot the lines on the graphs from before\n",
    "\n",
    "Compute the residuals (i.e., the minimum least squares error) and compare\n",
    "\n",
    "There are single commands in certain Python packages that do least squares fits. Find one and compare."
   ]
  },
  {
   "cell_type": "code",
   "execution_count": null,
   "metadata": {},
   "outputs": [],
   "source": []
  },
  {
   "cell_type": "markdown",
   "metadata": {},
   "source": [
    "## A Solution ..."
   ]
  },
  {
   "cell_type": "code",
   "execution_count": 52,
   "metadata": {},
   "outputs": [],
   "source": [
    "N = len(rdates)\n",
    "xsum = rdates.sum()\n",
    "x2sum = np.multiply(rdates,rdates).sum()\n",
    "\n",
    "wsum = rwheat.sum()\n",
    "csum = rcorn.sum()\n",
    "dwsum = np.multiply(rdates,rwheat).sum()\n",
    "dcsum = np.multiply(rdates,rcorn).sum()"
   ]
  },
  {
   "cell_type": "code",
   "execution_count": 53,
   "metadata": {},
   "outputs": [],
   "source": [
    "A = np.zeros((2,2))\n",
    "A[0,0] = N\n",
    "A[0,1] = xsum\n",
    "A[1,0] = xsum\n",
    "A[1,1] = x2sum"
   ]
  },
  {
   "cell_type": "code",
   "execution_count": 54,
   "metadata": {},
   "outputs": [],
   "source": [
    "bw = np.zeros(2)\n",
    "bw[0] = wsum\n",
    "bw[1] = dwsum"
   ]
  },
  {
   "cell_type": "code",
   "execution_count": 55,
   "metadata": {},
   "outputs": [],
   "source": [
    "bc = np.zeros(2)\n",
    "bc[0] = csum\n",
    "bc[1] = dcsum"
   ]
  },
  {
   "cell_type": "code",
   "execution_count": 56,
   "metadata": {},
   "outputs": [
    {
     "name": "stdout",
     "output_type": "stream",
     "text": [
      "[-8.01849294e+02  4.21293847e-01]\n"
     ]
    }
   ],
   "source": [
    "zw = np.linalg.solve(A, bw)\n",
    "print(zw)\n"
   ]
  },
  {
   "cell_type": "code",
   "execution_count": 57,
   "metadata": {},
   "outputs": [
    {
     "name": "stdout",
     "output_type": "stream",
     "text": [
      "[-3.64318647e+03  1.88947661e+00]\n"
     ]
    }
   ],
   "source": [
    "zc = np.linalg.solve(A, bc)\n",
    "print(zc)\n"
   ]
  },
  {
   "cell_type": "code",
   "execution_count": 58,
   "metadata": {},
   "outputs": [],
   "source": [
    "wline = zw[0] + zw[1]*rdates;\n",
    "cline = zc[0] + zc[1]*rdates;"
   ]
  },
  {
   "cell_type": "code",
   "execution_count": 59,
   "metadata": {},
   "outputs": [
    {
     "data": {
      "image/png": "[encoded data removed]",
      "text/plain": [
       "<Figure size 640x480 with 1 Axes>"
      ]
     },
     "metadata": {},
     "output_type": "display_data"
    }
   ],
   "source": [
    "# Plotting the wheat and corn yield trends\n",
    "fig3 = plt.figure()\n",
    "plt.style.use('classic')\n",
    "plt.plot(rdates, rwheat)\n",
    "plt.plot(rdates, rcorn)\n",
    "plt.plot(rdates, wline)\n",
    "plt.plot(rdates, cline)\n",
    "plt.title(\"United States Average Corn and Wheat Yield by Year\")\n",
    "plt.xlabel(\"Year\")\n",
    "plt.ylabel(\"Yield in bushels per acre\")\n",
    "plt.grid()"
   ]
  },
  {
   "cell_type": "code",
   "execution_count": null,
   "metadata": {},
   "outputs": [],
   "source": []
  },
  {
   "cell_type": "code",
   "execution_count": null,
   "metadata": {},
   "outputs": [],
   "source": []
  },
  {
   "cell_type": "markdown",
   "metadata": {},
   "source": [
    "## Random Numbers\n",
    "\n",
    "Please watch the following youtube videos ...\n",
    "\n",
    "\n",
    "<a href=\"https://www.youtube.com/watch?v=fEWigU1dcp8\" target=\"_blank\">Random Numbers 1 of 2 by Eddie Woo</a>\n",
    "\n",
    "<a href=\"https://www.youtube.com/watch?v=PtEivGPxwAI\" target=\"_blank\">Random Numbers 2 of 2 by Eddie Woo</a>"
   ]
  },
  {
   "cell_type": "code",
   "execution_count": 83,
   "metadata": {},
   "outputs": [],
   "source": [
    "# Example of a linear congruential generator\n",
    "\n",
    "M = 2 ** 32; # The modulus\n",
    "a = 1664525; # Parameters ...\n",
    "c = 1013904223\n",
    "\n",
    "def MyRandInt(Seed, a, c, M):\n",
    "    Output = (a*Seed + c) % M\n",
    "    return Output"
   ]
  },
  {
   "cell_type": "code",
   "execution_count": 86,
   "metadata": {},
   "outputs": [
    {
     "data": {
      "text/plain": [
       "1018897798"
      ]
     },
     "execution_count": 86,
     "metadata": {},
     "output_type": "execute_result"
    }
   ],
   "source": [
    "# Testing it ...\n",
    "\n",
    "MyRandInt(3, 1664525, 1013904223, 2**32)"
   ]
  },
  {
   "cell_type": "code",
   "execution_count": 87,
   "metadata": {},
   "outputs": [],
   "source": [
    "x = np.zeros(10000)\n",
    "val = 0;\n",
    "\n",
    "for k in range(10000):\n",
    "    newval = MyRandInt(val, 1664525, 1013904223, 2**32);\n",
    "    val = newval;\n",
    "    x[k] = val;"
   ]
  },
  {
   "cell_type": "code",
   "execution_count": 89,
   "metadata": {},
   "outputs": [
    {
     "data": {
      "image/png": "[encoded data removed]",
      "text/plain": [
       "<Figure size 640x480 with 1 Axes>"
      ]
     },
     "metadata": {},
     "output_type": "display_data"
    }
   ],
   "source": [
    "fig3 = plt.figure()\n",
    "plt.style.use('classic')\n",
    "plt.plot(x[0:500])\n",
    "plt.title(\"Random Integers Generated by MyRandInt\")\n",
    "plt.xlabel(\"Position in Sequence\")\n",
    "plt.ylabel(\"Integer\")\n",
    "plt.grid()"
   ]
  },
  {
   "cell_type": "code",
   "execution_count": 90,
   "metadata": {},
   "outputs": [],
   "source": [
    "# Divide by the modulus to normalize the random\n",
    "# integers to be uniform on the interval [0, 1)\n",
    "\n",
    "unif = x/M"
   ]
  },
  {
   "cell_type": "code",
   "execution_count": 91,
   "metadata": {},
   "outputs": [
    {
     "data": {
      "text/plain": [
       "[<matplotlib.lines.Line2D at 0x7fbdc3031a30>]"
      ]
     },
     "execution_count": 91,
     "metadata": {},
     "output_type": "execute_result"
    },
    {
     "data": {
      "image/png": "[encoded data removed]",
      "text/plain": [
       "<Figure size 640x480 with 1 Axes>"
      ]
     },
     "metadata": {},
     "output_type": "display_data"
    }
   ],
   "source": [
    "plt.plot(unif)"
   ]
  },
  {
   "cell_type": "code",
   "execution_count": 92,
   "metadata": {},
   "outputs": [
    {
     "data": {
      "text/plain": [
       "(array([212., 217., 186., 179., 201., 203., 196., 222., 185., 214., 225.,\n",
       "        216., 185., 218., 184., 191., 202., 191., 189., 200., 188., 195.,\n",
       "        207., 186., 203., 201., 190., 200., 194., 193., 190., 216., 208.,\n",
       "        231., 183., 200., 201., 186., 203., 178., 183., 231., 205., 193.,\n",
       "        189., 231., 195., 208., 198., 198.]),\n",
       " array([7.27167353e-05, 2.00700712e-02, 4.00674257e-02, 6.00647802e-02,\n",
       "        8.00621346e-02, 1.00059489e-01, 1.20056844e-01, 1.40054198e-01,\n",
       "        1.60051553e-01, 1.80048907e-01, 2.00046261e-01, 2.20043616e-01,\n",
       "        2.40040970e-01, 2.60038325e-01, 2.80035679e-01, 3.00033034e-01,\n",
       "        3.20030388e-01, 3.40027743e-01, 3.60025097e-01, 3.80022452e-01,\n",
       "        4.00019806e-01, 4.20017161e-01, 4.40014515e-01, 4.60011870e-01,\n",
       "        4.80009224e-01, 5.00006579e-01, 5.20003933e-01, 5.40001288e-01,\n",
       "        5.59998642e-01, 5.79995997e-01, 5.99993351e-01, 6.19990705e-01,\n",
       "        6.39988060e-01, 6.59985414e-01, 6.79982769e-01, 6.99980123e-01,\n",
       "        7.19977478e-01, 7.39974832e-01, 7.59972187e-01, 7.79969541e-01,\n",
       "        7.99966896e-01, 8.19964250e-01, 8.39961605e-01, 8.59958959e-01,\n",
       "        8.79956314e-01, 8.99953668e-01, 9.19951023e-01, 9.39948377e-01,\n",
       "        9.59945732e-01, 9.79943086e-01, 9.99940441e-01]),\n",
       " <BarContainer object of 50 artists>)"
      ]
     },
     "execution_count": 92,
     "metadata": {},
     "output_type": "execute_result"
    },
    {
     "data": {
      "image/png": "[encoded data removed]",
      "text/plain": [
       "<Figure size 640x480 with 1 Axes>"
      ]
     },
     "metadata": {},
     "output_type": "display_data"
    }
   ],
   "source": [
    "plt.hist(unif, bins=50)"
   ]
  },
  {
   "cell_type": "code",
   "execution_count": 93,
   "metadata": {},
   "outputs": [],
   "source": [
    "# Compare with the numpy random number generator ...\n",
    "\n",
    "newunif = np.random.uniform(0, 1, 10000)\n"
   ]
  },
  {
   "cell_type": "code",
   "execution_count": 94,
   "metadata": {},
   "outputs": [
    {
     "data": {
      "text/plain": [
       "[<matplotlib.lines.Line2D at 0x7fbdc35a8f10>]"
      ]
     },
     "execution_count": 94,
     "metadata": {},
     "output_type": "execute_result"
    },
    {
     "data": {
      "image/png": "[encoded data removed]",
      "text/plain": [
       "<Figure size 640x480 with 1 Axes>"
      ]
     },
     "metadata": {},
     "output_type": "display_data"
    }
   ],
   "source": [
    "plt.plot(newunif)"
   ]
  },
  {
   "cell_type": "code",
   "execution_count": 95,
   "metadata": {},
   "outputs": [
    {
     "data": {
      "text/plain": [
       "(array([218., 218., 178., 211., 204., 196., 200., 209., 208., 204., 200.,\n",
       "        200., 173., 162., 185., 201., 198., 199., 212., 236., 205., 188.,\n",
       "        189., 180., 215., 193., 204., 208., 198., 204., 202., 210., 218.,\n",
       "        179., 199., 233., 208., 189., 188., 218., 195., 178., 184., 189.,\n",
       "        211., 216., 186., 206., 208., 187.]),\n",
       " array([1.46815596e-04, 2.01437806e-02, 4.01407456e-02, 6.01377106e-02,\n",
       "        8.01346756e-02, 1.00131641e-01, 1.20128606e-01, 1.40125571e-01,\n",
       "        1.60122536e-01, 1.80119500e-01, 2.00116465e-01, 2.20113430e-01,\n",
       "        2.40110395e-01, 2.60107360e-01, 2.80104325e-01, 3.00101290e-01,\n",
       "        3.20098255e-01, 3.40095220e-01, 3.60092185e-01, 3.80089150e-01,\n",
       "        4.00086115e-01, 4.20083080e-01, 4.40080045e-01, 4.60077010e-01,\n",
       "        4.80073975e-01, 5.00070940e-01, 5.20067905e-01, 5.40064870e-01,\n",
       "        5.60061835e-01, 5.80058800e-01, 6.00055765e-01, 6.20052730e-01,\n",
       "        6.40049695e-01, 6.60046660e-01, 6.80043625e-01, 7.00040590e-01,\n",
       "        7.20037555e-01, 7.40034520e-01, 7.60031485e-01, 7.80028450e-01,\n",
       "        8.00025415e-01, 8.20022380e-01, 8.40019345e-01, 8.60016310e-01,\n",
       "        8.80013275e-01, 9.00010240e-01, 9.20007205e-01, 9.40004170e-01,\n",
       "        9.60001135e-01, 9.79998100e-01, 9.99995065e-01]),\n",
       " <BarContainer object of 50 artists>)"
      ]
     },
     "execution_count": 95,
     "metadata": {},
     "output_type": "execute_result"
    },
    {
     "data": {
      "image/png": "[encoded data removed]",
      "text/plain": [
       "<Figure size 640x480 with 1 Axes>"
      ]
     },
     "metadata": {},
     "output_type": "display_data"
    }
   ],
   "source": [
    "plt.hist(newunif, bins=50)"
   ]
  },
  {
   "cell_type": "code",
   "execution_count": null,
   "metadata": {},
   "outputs": [],
   "source": []
  },
  {
   "cell_type": "markdown",
   "metadata": {},
   "source": [
    "## The Chutes and Ladders Game ...\n",
    "\n",
    "Prof. Buckmaster introduced the chutes and ladders game as an example of computing using Excel. The typical game board, containing 100 squares, is shown below."
   ]
  },
  {
   "cell_type": "markdown",
   "metadata": {},
   "source": [
    "<img align=\"left\" src='Figs/Chutes&LaddersImage.png' width=\"500\"/>"
   ]
  },
  {
   "cell_type": "markdown",
   "metadata": {},
   "source": [
    "### Short version of the rules:\n",
    "\n",
    "1. Assume there are N players, who have been ordered according to the order in which they will play by some random means (e.g., by rolling the dice, drawing straws, etc.)\n",
    "\n",
    "2. Players all start at position 0.\n",
    "\n",
    "3. At time k (k = 0, 1, 2, ...) the positions of the N players are indicated by p_n(k) for n = 1, 2, 3, ..., N.\n",
    "\n",
    "4. Starting with player 1, each player throws a die and adds the value shown on the die to his position, i.e., p_1(k+1) = p_1(k) + {the roll of the die}. Then the player moves to that position on the board. If there is no chute or ladder at the new position, he remains there and his turn ends. On the other hand, if there is a chute or a ladder at the new position, the player must climb the ladder or fall down the chute as the case may be .... this change then yields the new position.\n",
    "\n",
    "5. The first player to reach position 100 exactly wins the game. If a player rolls the die and computes a new position that would take her past 100, then the roll is voided and she remains at her original position."
   ]
  },
  {
   "cell_type": "code",
   "execution_count": 70,
   "metadata": {},
   "outputs": [],
   "source": [
    "# This dictionary stores the chutes and ladders board.\n",
    "CandLTable = {1:38, 4:14, 9:31, 16:6, 21:42, 28:84, 36:44, 47:26, 49:11, 51:67,\n",
    "             56:53, 63:19, 64:60, 71:91, 80:100, 87:24, 93:73, 95:75, 98:78}\n",
    "\n",
    "# The function to make a move\n",
    "def CandL_make_a_move(position,CandLTable):\n",
    "    roll = np.random.randint(1,7)\n",
    "    if position + roll > 100:\n",
    "        return position\n",
    "    position += roll\n",
    "    position = CandLTable.get(position, position)\n",
    "    return position"
   ]
  },
  {
   "cell_type": "markdown",
   "metadata": {},
   "source": [
    "### How does the `CandLTable` work?\n",
    "\n",
    "It is a dictionary, which means a collection of key-value pairs. Here is a link to `methods` that work with dictionaries ... <a href=\"https://www.w3schools.com/python/python_ref_dictionary.asp\" target=\"_blank\">Dictionary Methods</a>.\n",
    "\n",
    "Let's try a few ..."
   ]
  },
  {
   "cell_type": "code",
   "execution_count": 71,
   "metadata": {},
   "outputs": [
    {
     "name": "stdout",
     "output_type": "stream",
     "text": [
      "dict_keys([1, 4, 9, 16, 21, 28, 36, 47, 49, 51, 56, 63, 64, 71, 80, 87, 93, 95, 98])\n"
     ]
    }
   ],
   "source": [
    "print(CandLTable.keys())"
   ]
  },
  {
   "cell_type": "code",
   "execution_count": 72,
   "metadata": {},
   "outputs": [
    {
     "name": "stdout",
     "output_type": "stream",
     "text": [
      "dict_values([38, 14, 31, 6, 42, 84, 44, 26, 11, 67, 53, 19, 60, 91, 100, 24, 73, 75, 78])\n"
     ]
    }
   ],
   "source": [
    "print(CandLTable.values())"
   ]
  },
  {
   "cell_type": "code",
   "execution_count": 73,
   "metadata": {},
   "outputs": [
    {
     "name": "stdout",
     "output_type": "stream",
     "text": [
      "dict_items([(1, 38), (4, 14), (9, 31), (16, 6), (21, 42), (28, 84), (36, 44), (47, 26), (49, 11), (51, 67), (56, 53), (63, 19), (64, 60), (71, 91), (80, 100), (87, 24), (93, 73), (95, 75), (98, 78)])\n"
     ]
    }
   ],
   "source": [
    "print(CandLTable.items())"
   ]
  },
  {
   "cell_type": "code",
   "execution_count": 74,
   "metadata": {},
   "outputs": [
    {
     "data": {
      "text/plain": [
       "11"
      ]
     },
     "execution_count": 74,
     "metadata": {},
     "output_type": "execute_result"
    }
   ],
   "source": [
    "# Simplest usage, good for when we know that the referenced key exists ...\n",
    "CandLTable.get(49)"
   ]
  },
  {
   "cell_type": "code",
   "execution_count": 75,
   "metadata": {},
   "outputs": [],
   "source": [
    "# What happens if the key does not exist in the dictionary?\n",
    "CandLTable.get(48)"
   ]
  },
  {
   "cell_type": "markdown",
   "metadata": {},
   "source": [
    "### Nothing happens apparently"
   ]
  },
  {
   "cell_type": "code",
   "execution_count": 76,
   "metadata": {},
   "outputs": [
    {
     "name": "stdout",
     "output_type": "stream",
     "text": [
      "None\n"
     ]
    }
   ],
   "source": [
    "# Sometimes you can use print() to force the interpreter to show a value ...\n",
    "print(CandLTable.get(48))"
   ]
  },
  {
   "cell_type": "markdown",
   "metadata": {},
   "source": [
    "### This is why we need the second argument in the call to the dictionary. It specifies what to return in the case that the key is missing ..."
   ]
  },
  {
   "cell_type": "code",
   "execution_count": 77,
   "metadata": {},
   "outputs": [
    {
     "name": "stdout",
     "output_type": "stream",
     "text": [
      "-1\n"
     ]
    }
   ],
   "source": [
    "# Specifying a second argument in the call\n",
    "print(CandLTable.get(48,-1))"
   ]
  },
  {
   "cell_type": "markdown",
   "metadata": {},
   "source": [
    "### How does `random` work?\n",
    "\n",
    "Random number generators are covered in many places ... <a href=\"https://numpy.org/doc/stable/reference/random/index.html?highlight=random%20sampling%20numpy%20random#module-numpy.random\" target=\"_blank\">Random Numbers in NumPy</a>."
   ]
  },
  {
   "cell_type": "code",
   "execution_count": 78,
   "metadata": {},
   "outputs": [
    {
     "name": "stdout",
     "output_type": "stream",
     "text": [
      "5\n"
     ]
    }
   ],
   "source": [
    "print(np.random.randint(1,7))"
   ]
  },
  {
   "cell_type": "code",
   "execution_count": 79,
   "metadata": {},
   "outputs": [
    {
     "name": "stdout",
     "output_type": "stream",
     "text": [
      "3\n",
      "2\n",
      "5\n",
      "2\n",
      "3\n",
      "2\n"
     ]
    }
   ],
   "source": [
    "np.random.seed(12345)\n",
    "print(np.random.randint(1,6))\n",
    "print(np.random.randint(1,6))\n",
    "print(np.random.randint(1,6))\n",
    "print(np.random.randint(1,6))\n",
    "print(np.random.randint(1,6))\n",
    "print(np.random.randint(1,6))"
   ]
  },
  {
   "cell_type": "code",
   "execution_count": null,
   "metadata": {},
   "outputs": [],
   "source": []
  },
  {
   "cell_type": "markdown",
   "metadata": {},
   "source": [
    "# Exercise: Program Chutes and Ladders Game\n",
    "\n",
    "Write a program which plays a game between two people until one wins and produces a record of the game play.\n",
    "\n",
    "Convert your the single game code into a function and then write a program to play a large number of games one after another keeping a record of who won and how long the game lasted. Then compute statistics and/or histograms.\n",
    "\n",
    "Finally, explore how changes to the positions of chutes and ladders might change the game.\n",
    "\n",
    "### Basic Game"
   ]
  },
  {
   "cell_type": "code",
   "execution_count": 100,
   "metadata": {},
   "outputs": [
    {
     "name": "stdout",
     "output_type": "stream",
     "text": [
      "Player 2 Wins!!\n"
     ]
    },
    {
     "data": {
      "image/png": "[encoded data removed]",
      "text/plain": [
       "<Figure size 640x480 with 1 Axes>"
      ]
     },
     "metadata": {},
     "output_type": "display_data"
    }
   ],
   "source": [
    "P1 = np.array([0])\n",
    "P2 = np.array([0])\n",
    "\n",
    "p1 = 0\n",
    "p2 = 0\n",
    "\n",
    "while (p1 < 100 and p2 < 100):\n",
    "    p1 = CandL_make_a_move(p1, CandLTable)\n",
    "    p2 = CandL_make_a_move(p2, CandLTable)\n",
    "    P1 = np.append(P1, p1)\n",
    "    P2 = np.append(P2, p2)\n",
    "    if p1 == 100:\n",
    "        print('Player 1 Wins!!')\n",
    "    elif p2 == 100:\n",
    "        print('Player 2 Wins!!')\n",
    "\n",
    "# This simply plots the positions of the two players over the\n",
    "# course of the game.\n",
    "fig3 = plt.figure()\n",
    "plt.style.use('seaborn-dark-palette')\n",
    "plt.plot(P1,'*')\n",
    "plt.plot(P2,'+')\n",
    "plt.grid()"
   ]
  },
  {
   "cell_type": "markdown",
   "metadata": {},
   "source": [
    "### Playing many games: Convert the game code above into a function and write a wrapper to play many games ..."
   ]
  },
  {
   "cell_type": "code",
   "execution_count": null,
   "metadata": {},
   "outputs": [],
   "source": []
  },
  {
   "cell_type": "markdown",
   "metadata": {},
   "source": [
    "### Solution ..."
   ]
  },
  {
   "cell_type": "code",
   "execution_count": 81,
   "metadata": {},
   "outputs": [
    {
     "name": "stdout",
     "output_type": "stream",
     "text": [
      "Average number of rounds per game is 26.58\n",
      "Player 1 won 526 of 1000 games\n",
      "Player 2 won 474 of 1000 games\n"
     ]
    },
    {
     "data": {
      "text/plain": [
       "(array([ 50.,  80., 139., 130., 142.,  86., 104.,  48.,  50.,  42.,  33.,\n",
       "         26.,  20.,   6.,  11.,   4.,   8.,   4.,   5.,   3.,   3.,   5.,\n",
       "          0.,   0.,   0.,   0.,   0.,   0.,   0.,   1.]),\n",
       " array([  7.        ,  10.46666667,  13.93333333,  17.4       ,\n",
       "         20.86666667,  24.33333333,  27.8       ,  31.26666667,\n",
       "         34.73333333,  38.2       ,  41.66666667,  45.13333333,\n",
       "         48.6       ,  52.06666667,  55.53333333,  59.        ,\n",
       "         62.46666667,  65.93333333,  69.4       ,  72.86666667,\n",
       "         76.33333333,  79.8       ,  83.26666667,  86.73333333,\n",
       "         90.2       ,  93.66666667,  97.13333333, 100.6       ,\n",
       "        104.06666667, 107.53333333, 111.        ]),\n",
       " <BarContainer object of 30 artists>)"
      ]
     },
     "execution_count": 81,
     "metadata": {},
     "output_type": "execute_result"
    },
    {
     "data": {
      "image/png": "[encoded data removed]",
      "text/plain": [
       "<Figure size 640x480 with 1 Axes>"
      ]
     },
     "metadata": {},
     "output_type": "display_data"
    }
   ],
   "source": [
    "# Convert game code to function\n",
    "\n",
    "def CandL_play_a_game(CandLTable):\n",
    "    p1 = 0\n",
    "    p2 = 0\n",
    "    Nmoves = 0\n",
    "    p1wins = 0\n",
    "    p2wins = 0\n",
    "    while (p1 < 100 and p2 < 100):\n",
    "        p1 = CandL_make_a_move(p1, CandLTable)\n",
    "        p2 = CandL_make_a_move(p2, CandLTable)\n",
    "        Nmoves += 1\n",
    "        if p1 == 100:\n",
    "            p1wins += 1\n",
    "        elif p2 == 100:\n",
    "            p2wins += 1\n",
    "    return Nmoves, p1wins, p2wins\n",
    "     \n",
    "Ngames = 1000\n",
    "Np1wins = 0\n",
    "Np2wins = 0\n",
    "\n",
    "GameLengths = np.array([])\n",
    "\n",
    "for k in range(Ngames):\n",
    "    L = CandL_play_a_game(CandLTable)\n",
    "    Np1wins += L[1]\n",
    "    Np2wins += L[2]\n",
    "    GameLengths = np.append(GameLengths, L[0])\n",
    "\n",
    "print('Average number of rounds per game is {:.2f}'.format(np.mean(GameLengths)))\n",
    "print('Player 1 won {} of {} games'.format(Np1wins,Ngames))\n",
    "print('Player 2 won {} of {} games'.format(Np2wins,Ngames))\n",
    "\n",
    "plt.hist(GameLengths, bins=30)"
   ]
  },
  {
   "cell_type": "markdown",
   "metadata": {},
   "source": [
    "### Modify the table to see it's effect on the game ..."
   ]
  },
  {
   "cell_type": "code",
   "execution_count": 82,
   "metadata": {},
   "outputs": [
    {
     "name": "stdout",
     "output_type": "stream",
     "text": [
      "Average number of rounds per game is 86.84\n",
      "Player 1 won 538 of 1000 games\n",
      "Player 2 won 462 of 1000 games\n"
     ]
    },
    {
     "data": {
      "text/plain": [
       "(array([123., 186., 149., 102.,  86.,  77.,  53.,  39.,  33.,  35.,  26.,\n",
       "         17.,  21.,   8.,  13.,   9.,   3.,   3.,   2.,   3.,   7.,   2.,\n",
       "          0.,   0.,   1.,   0.,   1.,   0.,   0.,   1.]),\n",
       " array([ 15. ,  30.1,  45.2,  60.3,  75.4,  90.5, 105.6, 120.7, 135.8,\n",
       "        150.9, 166. , 181.1, 196.2, 211.3, 226.4, 241.5, 256.6, 271.7,\n",
       "        286.8, 301.9, 317. , 332.1, 347.2, 362.3, 377.4, 392.5, 407.6,\n",
       "        422.7, 437.8, 452.9, 468. ]),\n",
       " <BarContainer object of 30 artists>)"
      ]
     },
     "execution_count": 82,
     "metadata": {},
     "output_type": "execute_result"
    },
    {
     "data": {
      "image/png": "[encoded data removed]",
      "text/plain": [
       "<Figure size 640x480 with 1 Axes>"
      ]
     },
     "metadata": {},
     "output_type": "display_data"
    }
   ],
   "source": [
    "# This dictionary stores the chutes and ladders board.\n",
    "CandLTable2 = {4:14, 9:31, 16:6, 21:42, 36:44, 47:26, 49:11, 51:67,\n",
    "             56:53, 63:19, 64:60, 80:2, 87:24, 93:73, 95:75, 98:78}\n",
    "\n",
    "Ngames = 1000\n",
    "Np1wins = 0\n",
    "Np2wins = 0\n",
    "\n",
    "GameLengths = np.array([])\n",
    "\n",
    "for k in range(Ngames):\n",
    "    L = CandL_play_a_game(CandLTable2)\n",
    "    Np1wins += L[1]\n",
    "    Np2wins += L[2]\n",
    "    GameLengths = np.append(GameLengths, L[0])\n",
    "    \n",
    "print('Average number of rounds per game is {:.2f}'.format(np.mean(GameLengths)))\n",
    "print('Player 1 won {} of {} games'.format(Np1wins,Ngames))\n",
    "print('Player 2 won {} of {} games'.format(Np2wins,Ngames))\n",
    "\n",
    "plt.hist(GameLengths, bins=30)"
   ]
  },
  {
   "cell_type": "code",
   "execution_count": null,
   "metadata": {},
   "outputs": [],
   "source": []
  },
  {
   "cell_type": "code",
   "execution_count": null,
   "metadata": {},
   "outputs": [],
   "source": []
  },
  {
   "cell_type": "code",
   "execution_count": null,
   "metadata": {},
   "outputs": [],
   "source": []
  },
  {
   "cell_type": "code",
   "execution_count": null,
   "metadata": {},
   "outputs": [],
   "source": []
  },
  {
   "cell_type": "code",
   "execution_count": null,
   "metadata": {},
   "outputs": [],
   "source": []
  }
 ],
 "metadata": {
  "kernelspec": {
   "display_name": "Python 3",
   "language": "python",
   "name": "python3"
  },
  "language_info": {
   "codemirror_mode": {
    "name": "ipython",
    "version": 3
   },
   "file_extension": ".py",
   "mimetype": "text/x-python",
   "name": "python",
   "nbconvert_exporter": "python",
   "pygments_lexer": "ipython3",
   "version": "3.8.8"
  }
 },
 "nbformat": 4,
 "nbformat_minor": 2
}
