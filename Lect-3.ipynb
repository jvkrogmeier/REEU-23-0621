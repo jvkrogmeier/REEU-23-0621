{
 "cells": [
  {
   "cell_type": "markdown",
   "metadata": {},
   "source": [
    "# Lecture 3\n",
    "\n",
    "(Summer 2023)\n",
    "\n",
    "## Outline of topics for this segment:\n",
    "\n",
    "1. Anatomy of a Plot (Sneha Jha)\n",
    "2. Array indexing\n",
    "3. SciPy and numerical linear algebra\n",
    "4. Least squares\n",
    "5. Random numbers\n",
    "6. The Chutes and Ladders Game\n"
   ]
  },
  {
   "cell_type": "code",
   "execution_count": null,
   "metadata": {},
   "outputs": [],
   "source": [
    "import math\n",
    "import numpy as np\n",
    "import matplotlib as mpl\n",
    "import matplotlib.pyplot as plt\n",
    "import scipy.linalg as la"
   ]
  },
  {
   "cell_type": "markdown",
   "metadata": {},
   "source": [
    "## Anatomy of a Plot (Sneha Jha)"
   ]
  },
  {
   "cell_type": "code",
   "execution_count": null,
   "metadata": {},
   "outputs": [],
   "source": []
  },
  {
   "cell_type": "markdown",
   "metadata": {},
   "source": [
    "## Arrays and indexing\n",
    "We are going to need to use some of python's array indexing and slicing capabilities below. Therefore, we introduce them here."
   ]
  },
  {
   "cell_type": "code",
   "execution_count": null,
   "metadata": {},
   "outputs": [],
   "source": [
    "# Make an example one-dimensional array and fill it with random \n",
    "# integers. As used below the integers are between 0 and 9. The\n",
    "# array size is 20. The first entry in the array is x[0] and the last\n",
    "# is x[19]\n",
    "\n",
    "x1 = np.random.randint(10, size=20)\n",
    "print(x1)\n",
    "print(x1[0])\n",
    "print(x1[5])"
   ]
  },
  {
   "cell_type": "code",
   "execution_count": null,
   "metadata": {},
   "outputs": [],
   "source": [
    "# The \"shape\" method shows that x1 is a one-dimensional array of\n",
    "# length 20\n",
    "print(x1.shape)\n",
    "print(len(x1))"
   ]
  },
  {
   "cell_type": "markdown",
   "metadata": {},
   "source": [
    "## Array slicing\n",
    "This capability allows a simple way to access subarrays contained inside of an array. The notation uses the `:` operator. To access a slice of a **one-dimensional** array:\n",
    "\n",
    "- x1[start:stop:step]\n",
    "\n",
    "where\n",
    "\n",
    "- start is the beginning index (default if unspecified: start = 0)\n",
    "- stop is the ending index plus 1 (default if unspecified: stop = len(x1))\n",
    "- step is the spacing (default if unspecified: step = 1)"
   ]
  },
  {
   "cell_type": "code",
   "execution_count": null,
   "metadata": {},
   "outputs": [],
   "source": [
    "x1"
   ]
  },
  {
   "cell_type": "code",
   "execution_count": null,
   "metadata": {},
   "outputs": [],
   "source": [
    "x1[1:11]"
   ]
  },
  {
   "cell_type": "code",
   "execution_count": null,
   "metadata": {},
   "outputs": [],
   "source": [
    "# Every other entry starting from second entry and ending by the\n",
    "# 11th\n",
    "x1[1:11:2]"
   ]
  },
  {
   "cell_type": "code",
   "execution_count": null,
   "metadata": {},
   "outputs": [],
   "source": [
    "# Ditto but every third\n",
    "x1[1:11:3]"
   ]
  },
  {
   "cell_type": "code",
   "execution_count": null,
   "metadata": {},
   "outputs": [],
   "source": [
    "# Starting from first entry\n",
    "x1[:11]"
   ]
  },
  {
   "cell_type": "code",
   "execution_count": null,
   "metadata": {},
   "outputs": [],
   "source": [
    "# Another way to get the entire array. Useful with multidimensional\n",
    "# arrays\n",
    "x1[:]"
   ]
  },
  {
   "cell_type": "code",
   "execution_count": null,
   "metadata": {},
   "outputs": [],
   "source": [
    "# Every other entry starting from first (i.e., even indices)\n",
    "x1[::2]"
   ]
  },
  {
   "cell_type": "code",
   "execution_count": null,
   "metadata": {},
   "outputs": [],
   "source": [
    "# Every other entry starting from second (i.e., odd indices)\n",
    "x1[1::2]"
   ]
  },
  {
   "cell_type": "markdown",
   "metadata": {},
   "source": [
    "## Two-dimensional arrays"
   ]
  },
  {
   "cell_type": "code",
   "execution_count": null,
   "metadata": {},
   "outputs": [],
   "source": [
    "# Now generalize to matrix (a.k.a., a two-dimensional array).\n",
    "x2 = np.random.randint(10, size=(10,10))\n",
    "print(x2)"
   ]
  },
  {
   "cell_type": "code",
   "execution_count": null,
   "metadata": {},
   "outputs": [],
   "source": [
    "# How to address an individual entry in x2 ...\n",
    "x2[2,4]"
   ]
  },
  {
   "cell_type": "code",
   "execution_count": null,
   "metadata": {},
   "outputs": [],
   "source": [
    "# How to address the individual rows of x2 ...\n",
    "x2[2,:]"
   ]
  },
  {
   "cell_type": "code",
   "execution_count": null,
   "metadata": {},
   "outputs": [],
   "source": [
    "# How to address the individual columns of x2\n",
    "x2[:,1]"
   ]
  },
  {
   "cell_type": "markdown",
   "metadata": {},
   "source": [
    "### Notice how numpy treats the row and column arrays as 1D arrays. In otherwords, it does not keep track of the difference between a row and a column of a matrix ..."
   ]
  },
  {
   "cell_type": "code",
   "execution_count": null,
   "metadata": {},
   "outputs": [],
   "source": [
    "# How to extract a sub-array\n",
    "x2[1:3,2:4]"
   ]
  },
  {
   "cell_type": "code",
   "execution_count": null,
   "metadata": {},
   "outputs": [],
   "source": [
    "# Just to see the original\n",
    "x2"
   ]
  },
  {
   "cell_type": "code",
   "execution_count": null,
   "metadata": {},
   "outputs": [],
   "source": [
    "# Subarray with every other row and column (even) \n",
    "x2[::2,::2]"
   ]
  },
  {
   "cell_type": "code",
   "execution_count": null,
   "metadata": {},
   "outputs": [],
   "source": [
    "# Subarray with every other row and column (odd)\n",
    "x2[1::2,1::2]"
   ]
  },
  {
   "cell_type": "code",
   "execution_count": null,
   "metadata": {},
   "outputs": [],
   "source": []
  },
  {
   "cell_type": "markdown",
   "metadata": {},
   "source": [
    "## Numerical Linear Algebra\n",
    "\n",
    "Python is often used for operations associated with systems of linear equations. `Numpy` is a package that is useful for representing the arrays that hold: 1) the coefficient matrix defining the equations, 2) the column vector defining the unknown variables, and 3) the column vector holding the right-hand side of the matrix equation.\n",
    "\n",
    "There is also a package called `SciPy` which is useful for solving the equations."
   ]
  },
  {
   "cell_type": "markdown",
   "metadata": {},
   "source": [
    "### 1D and 2D Arrays"
   ]
  },
  {
   "cell_type": "code",
   "execution_count": null,
   "metadata": {},
   "outputs": [],
   "source": [
    "a = np.array([1, 3, -2, 1])\n",
    "print(a)\n",
    "print(f'The number of dimensions is: {a.ndim}')\n",
    "print(f'The shape of the array is: {a.shape}')\n",
    "print(f'The size of the array is: {a.size}')"
   ]
  },
  {
   "cell_type": "code",
   "execution_count": null,
   "metadata": {},
   "outputs": [],
   "source": [
    "M = np.array([[1, 2], [3, 7], [-1, 5]])\n",
    "print(M)\n",
    "print(f'The number of dimensions is: {M.ndim}')\n",
    "print(f'The shape of the array is: {M.shape}')\n",
    "print(f'The size of the array is: {M.size}')"
   ]
  },
  {
   "cell_type": "code",
   "execution_count": null,
   "metadata": {},
   "outputs": [],
   "source": [
    "# Selecting rows and/or columns from a 2D array produces 1D arrays\n",
    "col = M[:,1]\n",
    "print(col)\n",
    "print(f'The number of dimensions is: {col.ndim}')\n",
    "print(f'The shape of the column is: {col.shape}')\n",
    "print(f'The size of the column is: {col.size}')\n",
    "print()\n",
    "row = M[1,:]\n",
    "print(row)\n",
    "print(f'The number of dimensions is: {row.ndim}')\n",
    "print(f'The shape of the row is: {row.shape}')\n",
    "print(f'The size of the row is: {row.size}')"
   ]
  },
  {
   "cell_type": "markdown",
   "metadata": {},
   "source": [
    "### In both cases we ended up with a 1D array when sampling the 2D array. If we really want the column vector to be a 2D array, then this can be accomplished using the `reshape` method ..."
   ]
  },
  {
   "cell_type": "code",
   "execution_count": null,
   "metadata": {},
   "outputs": [],
   "source": [
    "newcol = col.reshape(3,1)\n",
    "print(newcol)\n",
    "print(f'The number of dimensions is: {newcol.ndim}')\n",
    "print(f'The shape of the column is: {newcol.shape}')\n",
    "print(f'The size of the column is: {newcol.size}')"
   ]
  },
  {
   "cell_type": "markdown",
   "metadata": {},
   "source": [
    "## Matrix Operations (Elementwise)\n",
    "\n",
    "The matrix operations `+`, `-`, `/`, `*`, and `**` are performed elementwise on numpy arrays."
   ]
  },
  {
   "cell_type": "code",
   "execution_count": null,
   "metadata": {},
   "outputs": [],
   "source": [
    "print(M)"
   ]
  },
  {
   "cell_type": "code",
   "execution_count": null,
   "metadata": {},
   "outputs": [],
   "source": [
    "print(M + M)"
   ]
  },
  {
   "cell_type": "code",
   "execution_count": null,
   "metadata": {},
   "outputs": [],
   "source": [
    "print(M * M)"
   ]
  },
  {
   "cell_type": "markdown",
   "metadata": {},
   "source": [
    "### Standard matrix multiplication is performed with the `@` operator. The matrix dimensions must work out in order for this to be well-defined ..."
   ]
  },
  {
   "cell_type": "code",
   "execution_count": null,
   "metadata": {},
   "outputs": [],
   "source": [
    "A = np.array([[1,3], [2,4], [5, 6]])\n",
    "\n",
    "print(f'The A matrix is: ')\n",
    "print(A)\n",
    "print(f'The shape of the A matrix is: {A.shape}')\n",
    "print()\n",
    "\n",
    "B = np.array([[3, 2], [1, 0]])\n",
    "\n",
    "print(f'The B matrix is: ')\n",
    "print(B)\n",
    "print(f'The shape of the B matrix is: {B.shape}')\n"
   ]
  },
  {
   "cell_type": "code",
   "execution_count": null,
   "metadata": {},
   "outputs": [],
   "source": [
    "# A and B are shaped such that A @ B is defined ...\n",
    "\n",
    "print(A @ B)"
   ]
  },
  {
   "cell_type": "markdown",
   "metadata": {},
   "source": [
    "## Examples of Numpy Operations on Matrices ..."
   ]
  },
  {
   "cell_type": "markdown",
   "metadata": {},
   "source": [
    "### Inner product or dot product\n",
    "\n",
    "Inner product takes two vectors of equal length and returns a single number computed\n",
    "as the sum of the element-wise components of the two vectors. For example ...\n",
    "\n",
    "$$x = [x_1, x_2, x_3, x_4]$$ and $$y = [y_1, y_2, y_3, y_4]$$\n",
    "\n",
    "Then the inner product of the two vectors is defined as\n",
    "\n",
    "$$\\langle x, y \\rangle = \\sum_{k=1}^4 x_k y_k$$"
   ]
  },
  {
   "cell_type": "code",
   "execution_count": null,
   "metadata": {},
   "outputs": [],
   "source": [
    "# What is the difference between the vectors defined below ... ?\n",
    "\n",
    "x = np.array([1, 3, -2, 1])\n",
    "y = np.array([1, 4, 2, 1])\n",
    "yy = np.array([[1], [4], [2], [1]])\n",
    "xx = np.array([[1, 3, -2, 1]])\n"
   ]
  },
  {
   "cell_type": "code",
   "execution_count": null,
   "metadata": {},
   "outputs": [],
   "source": [
    "np.dot(x,y)"
   ]
  },
  {
   "cell_type": "code",
   "execution_count": null,
   "metadata": {},
   "outputs": [],
   "source": [
    "np.inner(x,y)"
   ]
  },
  {
   "cell_type": "code",
   "execution_count": null,
   "metadata": {},
   "outputs": [],
   "source": [
    "# Inner product as a matrix multiplication\n",
    "\n",
    "xx @ yy"
   ]
  },
  {
   "cell_type": "code",
   "execution_count": null,
   "metadata": {},
   "outputs": [],
   "source": [
    "# Outer product as matrix multiplication\n",
    "\n",
    "yy @ xx"
   ]
  },
  {
   "cell_type": "markdown",
   "metadata": {},
   "source": [
    "### Transpose\n",
    "\n",
    "The transpose operator should be defined for any matrix. For example ...\n",
    "\n",
    "$$X = \\left[ \\begin{array}{rrr} 1 & 0 & -1 \\\\ 2 & 2 & 4 \\end{array} \\right]$$\n",
    "\n",
    "Then the transpose of the matrix is defined to be\n",
    "\n",
    "$$X^T = \\left[ \\begin{array}{rr} 1 & 2 \\\\ 0 & 2 \\\\ -1 & 4 \\end{array} \\right]$$"
   ]
  },
  {
   "cell_type": "code",
   "execution_count": null,
   "metadata": {},
   "outputs": [],
   "source": [
    "M = np.array([[1, 2], [3, 7], [-1, 5]])\n",
    "print(M)\n",
    "print()\n",
    "print(M.T)"
   ]
  },
  {
   "cell_type": "code",
   "execution_count": null,
   "metadata": {},
   "outputs": [],
   "source": [
    "# Two additional ways to get the transpose are ...\n",
    "\n",
    "print(np.transpose(M))\n",
    "print()\n",
    "print(M.transpose())"
   ]
  },
  {
   "cell_type": "code",
   "execution_count": null,
   "metadata": {},
   "outputs": [],
   "source": [
    "# Note: When we transpose a one-dimesional numpy array, it doesn't really\n",
    "# change anything ...\n",
    "\n",
    "print(np.array([1, 2, 3]))\n",
    "print()\n",
    "print(np.array([1, 2, 3]).T)"
   ]
  },
  {
   "cell_type": "code",
   "execution_count": null,
   "metadata": {},
   "outputs": [],
   "source": [
    "# Note the difference ...\n",
    "\n",
    "print(np.array([[1, 2, 3]]))\n",
    "print()\n",
    "print(np.array([[1, 2, 3]]).T)\n"
   ]
  },
  {
   "cell_type": "markdown",
   "metadata": {},
   "source": [
    "### Trace\n",
    "\n",
    "The trace is the sum of the diagonal elements of a square matrix ...\n",
    "\n",
    "$$Trace \\left[ \\begin{array}{ccc} m_{1,1} & m_{1,2} & m_{1,3} \\\\ m_{2,1} & m_{2,2} & m_{2,3} \\\\ m_{3,1} & m_{3,2} & m_{3,3} \\end{array} \\right] = m_{1,1} + m_{2,2} + m_{3,3}$$"
   ]
  },
  {
   "cell_type": "code",
   "execution_count": null,
   "metadata": {},
   "outputs": [],
   "source": [
    "M = np.array([[1, 2, 5], [0, 3, 7], [-1, 5, -2]])\n",
    "print(M)\n",
    "print()\n",
    "print(M.trace())\n"
   ]
  },
  {
   "cell_type": "markdown",
   "metadata": {},
   "source": [
    "### Rank\n",
    "\n",
    "The column rank of a matrix is the dimension of the vector space spanned by its column \n",
    "vectors. The row rank of a matrix is the dimension of the vector space spanned by its row vectors.\n",
    "\n",
    "For a square matrix the row rank and column rank are equal and usually just called the rank\n",
    "of the matrix."
   ]
  },
  {
   "cell_type": "code",
   "execution_count": null,
   "metadata": {},
   "outputs": [],
   "source": [
    "M = np.array([[1, 2, 5], [0, 3, 7], [-1, 5, -2]])\n",
    "print(M)\n",
    "print()\n",
    "print(np.linalg.matrix_rank(M))"
   ]
  },
  {
   "cell_type": "markdown",
   "metadata": {},
   "source": [
    "### Inverse Matrix"
   ]
  },
  {
   "cell_type": "code",
   "execution_count": null,
   "metadata": {},
   "outputs": [],
   "source": [
    "M = np.array([[1, 2, 5], [0, 3, 7], [-1, 5, -2]])\n",
    "print(M)\n",
    "print()\n",
    "print(np.linalg.inv(M))\n",
    "print()\n",
    "print(la.inv(M))"
   ]
  },
  {
   "cell_type": "code",
   "execution_count": null,
   "metadata": {},
   "outputs": [],
   "source": [
    "print(M @ np.linalg.inv(M))"
   ]
  },
  {
   "cell_type": "code",
   "execution_count": null,
   "metadata": {},
   "outputs": [],
   "source": []
  },
  {
   "cell_type": "markdown",
   "metadata": {},
   "source": [
    "## Solving a systems of linear equations ...\n",
    "\n",
    "`scipy.linalg.solve`"
   ]
  },
  {
   "cell_type": "code",
   "execution_count": null,
   "metadata": {},
   "outputs": [],
   "source": [
    "# Work on the problem we wrote on the board before\n",
    "\n",
    "A = np.array([[2, -1], [1, 1]])\n",
    "b = np.array([[-3], [4]])\n",
    "print(A)\n",
    "print(b)"
   ]
  },
  {
   "cell_type": "code",
   "execution_count": null,
   "metadata": {},
   "outputs": [],
   "source": [
    "x = la.solve(A,b)\n",
    "print(x)"
   ]
  },
  {
   "cell_type": "code",
   "execution_count": null,
   "metadata": {},
   "outputs": [],
   "source": [
    "# Compare to the above\n",
    "\n",
    "np.linalg.inv(A) @ b"
   ]
  },
  {
   "cell_type": "markdown",
   "metadata": {},
   "source": [
    "## Use of least-squares to fit best lines to the wheat and corn yield trend data from before ..."
   ]
  },
  {
   "cell_type": "code",
   "execution_count": null,
   "metadata": {},
   "outputs": [],
   "source": [
    "# The years for which we have average wheat yield data.\n",
    "wdates = np.array([2021, 2020, 2019, 2018, 2017, 2016, 2015, 2014, 2013, 2012, 2011, 2010, 2009, 2008, 2007, 2006, \n",
    "                   2005, 2004, 2003, 2002, 2001, 2000,1999, 1998, 1997, 1996, 1995, 1994, 1993, 1992, 1991, 1990, \n",
    "                   1989, 1988, 1987, 1986, 1985, 1984, 1983, 1982, 1981, 1980, 1979, 1978, 1977, 1976, 1975, 1974, \n",
    "                   1973, 1972, 1971, 1970, 1969, 1968, 1967,1966, 1965, 1964, 1963, 1962, 1961, 1960, 1959, 1958, \n",
    "                   1957, 1956, 1955, 1954, 1953, 1952, 1951, 1950, 1949, 1948, 1947, 1946, 1945,1944, 1943, 1942, \n",
    "                   1941, 1940, 1939, 1938, 1937, 1936, 1935, 1934, 1933, 1932, 1931, 1930, 1929, 1928, 1927, 1926, \n",
    "                   1925, 1924, 1923,1922, 1921, 1920, 1919, 1918, 1917, 1916, 1915, 1914, 1913, 1912,1911, 1910, \n",
    "                   1909, 1908, 1907, 1906, 1905, 1904, 1903, 1902, 1901,1900, 1899, 1898, 1897, 1896, 1895, 1894, \n",
    "                   1893, 1892, 1891, 1890,1889, 1888, 1887, 1886, 1885, 1884, 1883, 1882, 1881, 1880, 1879,1878, \n",
    "                   1877, 1876, 1875, 1874, 1873, 1872, 1871, 1870, 1869, 1868, 1867, 1866])\n",
    "\n",
    "\n",
    "# The average wheat yield data in the order to line up with the corresponding years.\n",
    "wyields = np.array([44.5, 49.7, 51.7, 47.6, 46.4, 52.7, 43.6, 43.7, 47.1, 46.2, 43.6, 46.1, 44.3, 44.8, 40.2, \n",
    "                    38.6, 42. , 43.2, 44.2, 35. , 40.2, 42. , 42.7, 43.2, 39.5, 36.3, 35.8, 37.6, 38.2, 39.3, \n",
    "                    34.3, 39.5, 32.7, 34.1, 37.7, 34.4, 37.5, 38.8, 39.4, 35.5, 34.5, 33.5, 34.2, 31.4, 30.7, \n",
    "                    30.3, 30.6, 27.3, 31.6, 32.7, 33.9, 31. , 30.6, 28.4, 25.8, 26.3, 26.5, 25.8, 25.2, 25. , \n",
    "                    23.9, 26.1, 21.6, 27.5, 21.8, 20.2, 19.8, 18.1, 17.3, 18.4, 16. , 16.5, 14.5, 17.9, 18.2, \n",
    "                    17.2, 17. , 17.7, 16.4, 19.5, 16.8, 15.3, 14.1, 13.3, 13.6, 12.8, 12.2, 12.1, 11.2, 13.1, \n",
    "                    16.3, 14.2, 13. , 15.4, 14.7, 14.7, 12.8, 16. , 13.3, 13.8, 12.7, 13.5, 12.9, 14.8, 13.2, \n",
    "                    11.9, 16.7, 16.1, 14.4, 15.1, 12.4, 13.7, 15.5, 14.3, 14.2, 16. , 15.2, 12.9, 13.7, 14.9, \n",
    "                    15. , 12.2, 12.5, 15.2, 14. , 12.8, 13.9, 13.5, 12.4, 14.2, 16.5, 12.2, 14. , 12.1, 13.3, \n",
    "                    14.1, 11.4, 14.8, 12.3, 15.1, 11. , 13.2, 13. , 13.5, 14.1, 10.9, 11.1, 13. , 12.9, 11.8, \n",
    "                    12.2, 12.1, 13.7, 12.9, 12.6, 11. ])\n",
    "\n",
    "# The years for which we have average corn yield data.\n",
    "cdates = np.array([2021, 2020, 2019, 2018, 2017, 2016, 2015, 2014, 2013, 2012, 2011, 2010, 2009, 2008, 2007, 2006, \n",
    "                   2005, 2004, 2003, 2002, 2001, 2000, 1999, 1998, 1997, 1996, 1995, 1994, 1993, 1992, 1991, 1990, \n",
    "                   1989, 1988, 1987, 1986, 1985, 1984, 1983, 1982, 1981, 1980, 1979, 1978, 1977, 1976, 1975, 1974, \n",
    "                   1973, 1972, 1971, 1970, 1969, 1968, 1967, 1966, 1965, 1964, 1963, 1962, 1961, 1960, 1959, 1958, \n",
    "                   1957, 1956, 1955, 1954, 1953, 1952, 1951, 1950, 1949, 1948, 1947, 1946, 1945, 1944, 1943, 1942, \n",
    "                   1941, 1940, 1939, 1938, 1937, 1936, 1935, 1934, 1933, 1932, 1931, 1930, 1929, 1928, 1927, 1926, \n",
    "                   1925, 1924, 1923, 1922, 1921, 1920, 1919, 1918, 1917, 1916, 1915, 1914, 1913, 1912, 1911, 1910, \n",
    "                   1909, 1908, 1907, 1906, 1905, 1904, 1903, 1902, 1901, 1900, 1899, 1898, 1897, 1896, 1895, 1894, \n",
    "                   1893, 1892, 1891, 1890, 1889, 1888, 1887, 1886, 1885, 1884, 1883, 1882, 1881, 1880, 1879, 1878, \n",
    "                   1877, 1876, 1875, 1874, 1873, 1872, 1871, 1870, 1869, 1868, 1867, 1866])\n",
    "\n",
    "# The average corn yield data in the order to line up with the corresponding years.\n",
    "cyields = np.array([176.3, 172, 167.5, 176.4, 176.6, 174.6, 168.4, 171, 158.1, 123.1, 146.8, 152.6, 164.4, \n",
    "                    153.3, 150.7, 149.1, 147.9, 160.3, 142.2, 129.3, 138.2, 136.9, 133.8, 134.4, 126.7, \n",
    "                    127.1, 113.5, 138.6, 100.7, 131.5, 108.6, 118.5, 116.3, 84.6, 119.8, 119.4, 118, 106.7, \n",
    "                    81.1, 113.2, 108.9, 91, 109.5, 101, 90.8, 88, 86.4, 71.9, 91.3, 97, 88.1, 72.4, 85.9, 79.5, 80.1,\n",
    "                    73.1, 74.1, 62.9, 67.9, 64.7, 62.4, 54.7, 53.1, 52.8, 48.3, 47.4, 42, 39.4, 40.7, 41.8, 36.9, \n",
    "                    38.2, 38.2, 43, 28.6, 37.2, 33.1, 33, 32.6, 35.4, 31.2, 28.9, 29.9, 27.8, 28.9, 18.6, 24.2, \n",
    "                    18.7, 22.8, 26.5, 24.5, 20.5, 25.7, 26.3, 26.4, 25.7, 27.4, 22.1, 27.8, 26.3, 27.8, 29.9, 26.8, \n",
    "                    23.9, 26.2, 24.1, 28.1, 25.8, 22.7, 29.1, 24.4, 27.9, 26.1, 26.9, 27.2, 31.7, 30.9, 28.2, 26.9, \n",
    "                    28.5, 18.2, 28.1, 28, 26.8, 25.4, 30, 28, 20.2, 23.8, 24.7, 29.6, 22.1, 29.5, 29.1, 21.9, 24.1, \n",
    "                    28.6, 28.3, 24.2, 26.5, 19.8, 27.3, 28.2, 26.2, 25.8, 26.7, 27.7, 22.2, 22.9, 29.4, 27.2, 29.3, \n",
    "                    21.8, 26.2, 24.7, 24.3])"
   ]
  },
  {
   "cell_type": "code",
   "execution_count": null,
   "metadata": {},
   "outputs": [],
   "source": []
  },
  {
   "cell_type": "code",
   "execution_count": null,
   "metadata": {},
   "outputs": [],
   "source": [
    "# Plotting the wheat yield trend\n",
    "fig3 = plt.figure()\n",
    "plt.style.use('classic')\n",
    "plt.plot(wdates, wyields)\n",
    "plt.plot(cdates, cyields)\n",
    "plt.title(\"US Average Corn and Wheat Yield by Year\")\n",
    "plt.xlabel(\"Year\")\n",
    "plt.ylabel(\"Yield in bushels per acre\")\n",
    "plt.grid()"
   ]
  },
  {
   "cell_type": "markdown",
   "metadata": {},
   "source": [
    "## The yield improvement trends began around 1940.\n",
    "\n",
    "Since the first year in the data sets is 1866, the index corresponding to 1940 is 1940 - 1866 = 74. Now shorten up the datasets ..."
   ]
  },
  {
   "cell_type": "code",
   "execution_count": null,
   "metadata": {},
   "outputs": [],
   "source": [
    "# The dates and the corresponding yields are all reverse ordered. Let's get them running\n",
    "# in the normal time order ...\n",
    "\n",
    "dates = cdates[::-1] # This reverses the array. Note also that cdates and wdates are identical\n",
    "\n",
    "print('cdates =')\n",
    "print(cdates)\n",
    "print()\n",
    "print('dates =')\n",
    "print(dates)"
   ]
  },
  {
   "cell_type": "code",
   "execution_count": null,
   "metadata": {},
   "outputs": [],
   "source": [
    "# Also reverse the wheat and corn yields\n",
    "\n",
    "wheat = wyields[::-1]\n",
    "corn = cyields[::-1]"
   ]
  },
  {
   "cell_type": "code",
   "execution_count": null,
   "metadata": {},
   "outputs": [],
   "source": [
    "# Now trim to keep only the data where the increasing yield trends are evident\n",
    "rdates = dates[74::]\n",
    "rwheat = wheat[74::]\n",
    "rcorn = corn[74::]"
   ]
  },
  {
   "cell_type": "code",
   "execution_count": null,
   "metadata": {},
   "outputs": [],
   "source": [
    "rdates"
   ]
  },
  {
   "cell_type": "code",
   "execution_count": null,
   "metadata": {},
   "outputs": [],
   "source": [
    "# Plotting the wheat and corn yield trends\n",
    "fig3 = plt.figure()\n",
    "plt.style.use('classic')\n",
    "plt.plot(rdates, rwheat)\n",
    "plt.plot(rdates, rcorn)\n",
    "plt.title(\"United States Average Corn and Wheat Yield by Year\")\n",
    "plt.xlabel(\"Year\")\n",
    "plt.ylabel(\"Yield in bushels per acre\")\n",
    "plt.grid()"
   ]
  },
  {
   "cell_type": "code",
   "execution_count": null,
   "metadata": {},
   "outputs": [],
   "source": []
  },
  {
   "cell_type": "markdown",
   "metadata": {},
   "source": [
    "### Straight Line Fitting via Least Squares ...\n",
    "\n",
    "<img align=\"left\" src='Data/LS-notes-p1.png' width=\"700\"/>\n",
    "<img align=\"left\" src='Data/LS-notes-p2.png' width=\"700\"/>"
   ]
  },
  {
   "cell_type": "markdown",
   "metadata": {},
   "source": [
    "## Exercise: Using the clipped data in the previous cells use least squares to fit lines to the wheat and corn yield data.\n",
    "\n",
    "Interpret the slopes on the wheat and corn best fit lines\n",
    "\n",
    "Plot the lines on the graphs from before\n",
    "\n",
    "Compute the residuals (i.e., the minimum least squares error) and compare\n",
    "\n",
    "There are single commands in certain Python packages that do least squares fits. Find one and compare."
   ]
  },
  {
   "cell_type": "code",
   "execution_count": null,
   "metadata": {},
   "outputs": [],
   "source": []
  },
  {
   "cell_type": "markdown",
   "metadata": {},
   "source": [
    "## A Solution ..."
   ]
  },
  {
   "cell_type": "code",
   "execution_count": null,
   "metadata": {},
   "outputs": [],
   "source": []
  },
  {
   "cell_type": "code",
   "execution_count": null,
   "metadata": {},
   "outputs": [],
   "source": []
  },
  {
   "cell_type": "markdown",
   "metadata": {},
   "source": [
    "## Random Numbers\n",
    "\n",
    "Please watch the following youtube videos ...\n",
    "\n",
    "\n",
    "<a href=\"https://www.youtube.com/watch?v=fEWigU1dcp8\" target=\"_blank\">Random Numbers 1 of 2 by Eddie Woo</a>\n",
    "\n",
    "<a href=\"https://www.youtube.com/watch?v=PtEivGPxwAI\" target=\"_blank\">Random Numbers 2 of 2 by Eddie Woo</a>"
   ]
  },
  {
   "cell_type": "code",
   "execution_count": null,
   "metadata": {},
   "outputs": [],
   "source": [
    "# Example of a linear congruential generator\n",
    "\n",
    "M = 2 ** 32; # The modulus\n",
    "a = 1664525; # Parameters ...\n",
    "c = 1013904223\n",
    "\n",
    "def MyRandInt(Seed, a, c, M):\n",
    "    Output = (a*Seed + c) % M\n",
    "    return Output"
   ]
  },
  {
   "cell_type": "code",
   "execution_count": null,
   "metadata": {},
   "outputs": [],
   "source": [
    "# Testing it ...\n",
    "\n",
    "MyRandInt(0, 1664525, 1013904223, 2**32)"
   ]
  },
  {
   "cell_type": "code",
   "execution_count": null,
   "metadata": {},
   "outputs": [],
   "source": [
    "x = np.zeros(10000)\n",
    "val = 0;\n",
    "\n",
    "for k in range(10000):\n",
    "    newval = MyRandInt(val, 1664525, 1013904223, 2**32);\n",
    "    val = newval;\n",
    "    x[k] = val;"
   ]
  },
  {
   "cell_type": "code",
   "execution_count": null,
   "metadata": {},
   "outputs": [],
   "source": [
    "fig3 = plt.figure()\n",
    "plt.style.use('classic')\n",
    "plt.plot(x[:])\n",
    "plt.title(\"Random Integers Generated by MyRandInt\")\n",
    "plt.xlabel(\"Position in Sequence\")\n",
    "plt.ylabel(\"Integer\")\n",
    "plt.grid()"
   ]
  },
  {
   "cell_type": "code",
   "execution_count": null,
   "metadata": {},
   "outputs": [],
   "source": [
    "# Divide by the modulus to normalize the random\n",
    "# integers to be uniform on the interval [0, 1)\n",
    "\n",
    "unif = x/M"
   ]
  },
  {
   "cell_type": "code",
   "execution_count": null,
   "metadata": {},
   "outputs": [],
   "source": [
    "plt.plot(unif)"
   ]
  },
  {
   "cell_type": "code",
   "execution_count": null,
   "metadata": {},
   "outputs": [],
   "source": [
    "plt.hist(unif, bins=50)"
   ]
  },
  {
   "cell_type": "code",
   "execution_count": null,
   "metadata": {},
   "outputs": [],
   "source": [
    "# Compare with the numpy random number generator ...\n",
    "\n",
    "newunif = np.random.uniform(0, 1, 10000)\n"
   ]
  },
  {
   "cell_type": "code",
   "execution_count": null,
   "metadata": {},
   "outputs": [],
   "source": [
    "plt.plot(newunif)"
   ]
  },
  {
   "cell_type": "code",
   "execution_count": null,
   "metadata": {},
   "outputs": [],
   "source": [
    "plt.hist(newunif, bins=50)"
   ]
  },
  {
   "cell_type": "code",
   "execution_count": null,
   "metadata": {},
   "outputs": [],
   "source": []
  },
  {
   "cell_type": "markdown",
   "metadata": {},
   "source": [
    "## The Chutes and Ladders Game ...\n",
    "\n",
    "Prof. Buckmaster introduced the chutes and ladders game as an example of computing using Excel. The typical game board, containing 100 squares, is shown below."
   ]
  },
  {
   "cell_type": "markdown",
   "metadata": {},
   "source": [
    "<img align=\"left\" src='Figs/Chutes&LaddersImage.png' width=\"500\"/>"
   ]
  },
  {
   "cell_type": "markdown",
   "metadata": {},
   "source": [
    "### Short version of the rules:\n",
    "\n",
    "1. Assume there are N players, who have been ordered according to the order in which they will play by some random means (e.g., by rolling the dice, drawing straws, etc.)\n",
    "\n",
    "2. Players all start at position 0.\n",
    "\n",
    "3. At time k (k = 0, 1, 2, ...) the positions of the N players are indicated by p_n(k) for n = 1, 2, 3, ..., N.\n",
    "\n",
    "4. Starting with player 1, each player throws a die and adds the value shown on the die to his position, i.e., p_1(k+1) = p_1(k) + {the roll of the die}. Then the player moves to that position on the board. If there is no chute or ladder at the new position, he remains there and his turn ends. On the other hand, if there is a chute or a ladder at the new position, the player must climb the ladder or fall down the chute as the case may be .... this change then yields the new position.\n",
    "\n",
    "5. The first player to reach position 100 exactly wins the game. If a player rolls the die and computes a new position that would take her past 100, then the roll is voided and she remains at her original position."
   ]
  },
  {
   "cell_type": "code",
   "execution_count": null,
   "metadata": {},
   "outputs": [],
   "source": [
    "# This dictionary stores the chutes and ladders board.\n",
    "CandLTable = {1:38, 4:14, 9:31, 16:6, 21:42, 28:84, 36:44, 47:26, 49:11, 51:67,\n",
    "             56:53, 63:19, 64:60, 71:91, 80:100, 87:24, 93:73, 95:75, 98:78}\n",
    "\n",
    "# The function to make a move\n",
    "def CandL_make_a_move(position,CandLTable):\n",
    "    roll = np.random.randint(1,7)\n",
    "    if position + roll > 100:\n",
    "        return position\n",
    "    position += roll\n",
    "    position = CandLTable.get(position, position)\n",
    "    return position"
   ]
  },
  {
   "cell_type": "markdown",
   "metadata": {},
   "source": [
    "### How does the `CandLTable` work?\n",
    "\n",
    "It is a dictionary, which means a collection of key-value pairs. Here is a link to `methods` that work with dictionaries ... <a href=\"https://www.w3schools.com/python/python_ref_dictionary.asp\" target=\"_blank\">Dictionary Methods</a>.\n",
    "\n",
    "Let's try a few ..."
   ]
  },
  {
   "cell_type": "code",
   "execution_count": null,
   "metadata": {},
   "outputs": [],
   "source": [
    "print(CandLTable.keys())"
   ]
  },
  {
   "cell_type": "code",
   "execution_count": null,
   "metadata": {},
   "outputs": [],
   "source": [
    "print(CandLTable.values())"
   ]
  },
  {
   "cell_type": "code",
   "execution_count": null,
   "metadata": {},
   "outputs": [],
   "source": [
    "print(CandLTable.items())"
   ]
  },
  {
   "cell_type": "code",
   "execution_count": null,
   "metadata": {},
   "outputs": [],
   "source": [
    "# Simplest usage, good for when we know that the referenced key exists ...\n",
    "CandLTable.get(49)"
   ]
  },
  {
   "cell_type": "code",
   "execution_count": null,
   "metadata": {},
   "outputs": [],
   "source": [
    "# What happens if the key does not exist in the dictionary?\n",
    "CandLTable.get(48)"
   ]
  },
  {
   "cell_type": "markdown",
   "metadata": {},
   "source": [
    "### Nothing happens apparently"
   ]
  },
  {
   "cell_type": "code",
   "execution_count": null,
   "metadata": {},
   "outputs": [],
   "source": [
    "# Sometimes you can use print() to force the interpreter to show a value ...\n",
    "print(CandLTable.get(48))"
   ]
  },
  {
   "cell_type": "markdown",
   "metadata": {},
   "source": [
    "### This is why we need the second argument in the call to the dictionary. It specifies what to return in the case that the key is missing ..."
   ]
  },
  {
   "cell_type": "code",
   "execution_count": null,
   "metadata": {},
   "outputs": [],
   "source": [
    "# Specifying a second argument in the call\n",
    "print(CandLTable.get(48,-1))"
   ]
  },
  {
   "cell_type": "markdown",
   "metadata": {},
   "source": [
    "### How does `random` work?\n",
    "\n",
    "Random number generators are covered in many places ... <a href=\"https://numpy.org/doc/stable/reference/random/index.html?highlight=random%20sampling%20numpy%20random#module-numpy.random\" target=\"_blank\">Random Numbers in NumPy</a>."
   ]
  },
  {
   "cell_type": "code",
   "execution_count": null,
   "metadata": {},
   "outputs": [],
   "source": [
    "print(np.random.randint(1,7))"
   ]
  },
  {
   "cell_type": "code",
   "execution_count": null,
   "metadata": {},
   "outputs": [],
   "source": [
    "np.random.seed(12345)\n",
    "print(np.random.randint(1,6))\n",
    "print(np.random.randint(1,6))\n",
    "print(np.random.randint(1,6))\n",
    "print(np.random.randint(1,6))\n",
    "print(np.random.randint(1,6))\n",
    "print(np.random.randint(1,6))"
   ]
  },
  {
   "cell_type": "code",
   "execution_count": null,
   "metadata": {},
   "outputs": [],
   "source": []
  },
  {
   "cell_type": "markdown",
   "metadata": {},
   "source": [
    "# Exercise: Program Chutes and Ladders Game\n",
    "\n",
    "Write a program which plays a game between two people until one wins and produces a record of the game play.\n",
    "\n",
    "Convert your the single game code into a function and then write a program to play a large number of games one after another keeping a record of who won and how long the game lasted. Then compute statistics and/or histograms.\n",
    "\n",
    "Finally, explore how changes to the positions of chutes and ladders might change the game.\n",
    "\n",
    "### Basic Game"
   ]
  },
  {
   "cell_type": "code",
   "execution_count": null,
   "metadata": {},
   "outputs": [],
   "source": [
    "P1 = np.array([0])\n",
    "P2 = np.array([0])\n",
    "\n",
    "p1 = 0\n",
    "p2 = 0\n",
    "\n",
    "while (p1 < 100 and p2 < 100):\n",
    "    p1 = CandL_make_a_move(p1, CandLTable)\n",
    "    p2 = CandL_make_a_move(p2, CandLTable)\n",
    "    P1 = np.append(P1, p1)\n",
    "    P2 = np.append(P2, p2)\n",
    "    if p1 == 100:\n",
    "        print('Player 1 Wins!!')\n",
    "    elif p2 == 100:\n",
    "        print('Player 2 Wins!!')\n",
    "\n",
    "# This simply plots the positions of the two players over the\n",
    "# course of the game.\n",
    "fig3 = plt.figure()\n",
    "plt.style.use('seaborn-dark-palette')\n",
    "plt.plot(P1,'*')\n",
    "plt.plot(P2,'+')\n",
    "plt.grid()"
   ]
  },
  {
   "cell_type": "markdown",
   "metadata": {},
   "source": [
    "### Playing many games: Convert the game code above into a function and write a wrapper to play many games ..."
   ]
  },
  {
   "cell_type": "code",
   "execution_count": null,
   "metadata": {},
   "outputs": [],
   "source": []
  },
  {
   "cell_type": "markdown",
   "metadata": {},
   "source": [
    "### Solution ..."
   ]
  },
  {
   "cell_type": "code",
   "execution_count": null,
   "metadata": {},
   "outputs": [],
   "source": []
  },
  {
   "cell_type": "code",
   "execution_count": null,
   "metadata": {},
   "outputs": [],
   "source": []
  },
  {
   "cell_type": "code",
   "execution_count": null,
   "metadata": {},
   "outputs": [],
   "source": []
  },
  {
   "cell_type": "markdown",
   "metadata": {},
   "source": [
    "### Modify the table to see it's effect on the game ..."
   ]
  },
  {
   "cell_type": "code",
   "execution_count": null,
   "metadata": {},
   "outputs": [],
   "source": []
  },
  {
   "cell_type": "code",
   "execution_count": null,
   "metadata": {},
   "outputs": [],
   "source": []
  },
  {
   "cell_type": "code",
   "execution_count": null,
   "metadata": {},
   "outputs": [],
   "source": []
  },
  {
   "cell_type": "code",
   "execution_count": null,
   "metadata": {},
   "outputs": [],
   "source": []
  },
  {
   "cell_type": "code",
   "execution_count": null,
   "metadata": {},
   "outputs": [],
   "source": []
  }
 ],
 "metadata": {
  "kernelspec": {
   "display_name": "Python 3",
   "language": "python",
   "name": "python3"
  },
  "language_info": {
   "codemirror_mode": {
    "name": "ipython",
    "version": 3
   },
   "file_extension": ".py",
   "mimetype": "text/x-python",
   "name": "python",
   "nbconvert_exporter": "python",
   "pygments_lexer": "ipython3",
   "version": "3.8.8"
  }
 },
 "nbformat": 4,
 "nbformat_minor": 2
}
